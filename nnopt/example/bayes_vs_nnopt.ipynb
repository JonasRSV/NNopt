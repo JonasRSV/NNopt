{
 "cells": [
  {
   "cell_type": "markdown",
   "metadata": {},
   "source": [
    "Bayesian Optimization & NN Opt\n",
    "---"
   ]
  },
  {
   "cell_type": "code",
   "execution_count": 1,
   "metadata": {},
   "outputs": [],
   "source": [
    "from bayes_opt import BayesianOptimization\n",
    "from nnopt.nnopt import Optimizer\n",
    "import time\n",
    "import numpy as np\n",
    "import gym\n"
   ]
  },
  {
   "cell_type": "code",
   "execution_count": 2,
   "metadata": {},
   "outputs": [
    {
     "name": "stdout",
     "output_type": "stream",
     "text": [
      "\u001b[33mWARN: gym.spaces.Box autodetected dtype as <class 'numpy.float32'>. Please provide explicit dtype.\u001b[0m\n",
      "\u001b[33mWARN: gym.spaces.Box autodetected dtype as <class 'numpy.float32'>. Please provide explicit dtype.\u001b[0m\n",
      "Box(1,)\n",
      "Box(2,)\n"
     ]
    },
    {
     "name": "stderr",
     "output_type": "stream",
     "text": [
      "/usr/local/lib/python3.6/site-packages/gym/envs/registration.py:14: DeprecationWarning: Parameters to load are deprecated.  Call .resolve and .require separately.\n",
      "  result = entry_point.load(False)\n"
     ]
    }
   ],
   "source": [
    "ll = gym.make(\"MountainCarContinuous-v0\")\n",
    "print(ll.action_space)\n",
    "print(ll.observation_space)\n",
    "\n",
    "def black_box_functionA(a, b):\n",
    "    \"\"\"Function with unknown internals we wish to maximize.\n",
    "\n",
    "    This is just serving as an example, for all intents and\n",
    "    purposes think of the internals of this function, i.e.: the process\n",
    "    which generates its output values, as unknown.\n",
    "    \"\"\"\n",
    "    transform = np.array([[a, b]])\n",
    "    \n",
    "    sc = 0\n",
    "    for _ in range(4):\n",
    "        s = ll.reset()\n",
    "        done = False\n",
    "        while not done:\n",
    "            #ll.render()\n",
    "            s, r, done, _ = ll.step(transform @ s)\n",
    "            sc += r\n",
    "\n",
    "    return sc / 4\n",
    "\n",
    "def black_box_functionB(a, b):\n",
    "    \"\"\"Function with unknown internals we wish to maximize.\n",
    "\n",
    "    This is just serving as an example, for all intents and\n",
    "    purposes think of the internals of this function, i.e.: the process\n",
    "    which generates its output values, as unknown.\n",
    "    \"\"\"\n",
    "    return -a ** 2 - (b - 1) ** 2 + 1\n",
    "\n",
    "#print(black_box_function(-221.59328, 28.267517))"
   ]
  },
  {
   "cell_type": "code",
   "execution_count": 3,
   "metadata": {},
   "outputs": [],
   "source": [
    "Nopt = Optimizer(black_box_functionB, N=2, surrogate_hidden_layer=1000, model_hidden_layer=400, memory_hidden_layer=400,\n",
    "                 Rn=[(-10, 10), (-10, 10)]) #(-10, 10), (-10, 10), (-10, 10), (-10, 10)])\n",
    "\n",
    "Bopt = BayesianOptimization(\n",
    "    f=black_box_functionB,\n",
    "    pbounds={'a': (-10, 10), 'b': (-10, 10)#, 'c': (-10, 10), \n",
    "             #'d': (-10, 10), 'e': (-10, 10), 'f': (-10, 10)},\n",
    "            },\n",
    "    random_state=np.random.randint(10),\n",
    ")"
   ]
  },
  {
   "cell_type": "markdown",
   "metadata": {},
   "source": [
    "Bayesian\n",
    "---"
   ]
  },
  {
   "cell_type": "code",
   "execution_count": 4,
   "metadata": {},
   "outputs": [
    {
     "name": "stdout",
     "output_type": "stream",
     "text": [
      "|   iter    |  target   |     a     |     b     |\n",
      "-------------------------------------------------\n",
      "| \u001b[0m 1       \u001b[0m | \u001b[0m-86.25   \u001b[0m | \u001b[0m 9.341   \u001b[0m | \u001b[0m 0.9446  \u001b[0m |\n",
      "| \u001b[0m 2       \u001b[0m | \u001b[0m-99.24   \u001b[0m | \u001b[0m 9.454   \u001b[0m | \u001b[0m 4.296   \u001b[0m |\n",
      "| \u001b[95m 3       \u001b[0m | \u001b[95m-59.24   \u001b[0m | \u001b[95m 3.955   \u001b[0m | \u001b[95m-5.678   \u001b[0m |\n",
      "| \u001b[0m 4       \u001b[0m | \u001b[0m-208.0   \u001b[0m | \u001b[0m 9.525   \u001b[0m | \u001b[0m-9.875   \u001b[0m |\n",
      "| \u001b[95m 5       \u001b[0m | \u001b[95m-28.72   \u001b[0m | \u001b[95m-4.94    \u001b[0m | \u001b[95m-1.304   \u001b[0m |\n",
      "| \u001b[0m 6       \u001b[0m | \u001b[0m-79.87   \u001b[0m | \u001b[0m 5.588   \u001b[0m | \u001b[0m-6.046   \u001b[0m |\n",
      "| \u001b[0m 7       \u001b[0m | \u001b[0m-126.8   \u001b[0m | \u001b[0m 7.26    \u001b[0m | \u001b[0m 9.668   \u001b[0m |\n",
      "| \u001b[0m 8       \u001b[0m | \u001b[0m-45.1    \u001b[0m | \u001b[0m-6.723   \u001b[0m | \u001b[0m 1.947   \u001b[0m |\n",
      "| \u001b[0m 9       \u001b[0m | \u001b[0m-106.1   \u001b[0m | \u001b[0m-9.82    \u001b[0m | \u001b[0m-2.269   \u001b[0m |\n",
      "| \u001b[0m 10      \u001b[0m | \u001b[0m-148.3   \u001b[0m | \u001b[0m-9.117   \u001b[0m | \u001b[0m 9.133   \u001b[0m |\n",
      "| \u001b[0m 11      \u001b[0m | \u001b[0m-64.3    \u001b[0m | \u001b[0m-1.277   \u001b[0m | \u001b[0m 8.98    \u001b[0m |\n",
      "| \u001b[0m 12      \u001b[0m | \u001b[0m-71.8    \u001b[0m | \u001b[0m 5.726   \u001b[0m | \u001b[0m 7.326   \u001b[0m |\n",
      "| \u001b[0m 13      \u001b[0m | \u001b[0m-132.0   \u001b[0m | \u001b[0m-6.537   \u001b[0m | \u001b[0m-8.501   \u001b[0m |\n",
      "| \u001b[0m 14      \u001b[0m | \u001b[0m-61.44   \u001b[0m | \u001b[0m 2.015   \u001b[0m | \u001b[0m-6.641   \u001b[0m |\n",
      "| \u001b[0m 15      \u001b[0m | \u001b[0m-28.8    \u001b[0m | \u001b[0m 4.668   \u001b[0m | \u001b[0m-1.831   \u001b[0m |\n",
      "| \u001b[0m 16      \u001b[0m | \u001b[0m-59.4    \u001b[0m | \u001b[0m 0.5582  \u001b[0m | \u001b[0m 8.751   \u001b[0m |\n",
      "| \u001b[0m 17      \u001b[0m | \u001b[0m-77.27   \u001b[0m | \u001b[0m 0.4339  \u001b[0m | \u001b[0m-7.836   \u001b[0m |\n",
      "| \u001b[0m 18      \u001b[0m | \u001b[0m-45.73   \u001b[0m | \u001b[0m-6.836   \u001b[0m | \u001b[0m 0.9041  \u001b[0m |\n",
      "| \u001b[95m 19      \u001b[0m | \u001b[95m-2.308   \u001b[0m | \u001b[95m 0.4881  \u001b[0m | \u001b[95m 2.752   \u001b[0m |\n",
      "| \u001b[0m 20      \u001b[0m | \u001b[0m-6.866   \u001b[0m | \u001b[0m-1.97    \u001b[0m | \u001b[0m 2.996   \u001b[0m |\n",
      "| \u001b[0m 21      \u001b[0m | \u001b[0m-5.437   \u001b[0m | \u001b[0m-2.062   \u001b[0m | \u001b[0m 2.478   \u001b[0m |\n",
      "| \u001b[0m 22      \u001b[0m | \u001b[0m-82.67   \u001b[0m | \u001b[0m 5.348   \u001b[0m | \u001b[0m-6.421   \u001b[0m |\n",
      "| \u001b[0m 23      \u001b[0m | \u001b[0m-6.094   \u001b[0m | \u001b[0m-2.488   \u001b[0m | \u001b[0m 0.05066 \u001b[0m |\n",
      "| \u001b[0m 24      \u001b[0m | \u001b[0m-48.06   \u001b[0m | \u001b[0m 3.733   \u001b[0m | \u001b[0m-4.926   \u001b[0m |\n",
      "| \u001b[0m 25      \u001b[0m | \u001b[0m-2.444   \u001b[0m | \u001b[0m 1.095   \u001b[0m | \u001b[0m 2.499   \u001b[0m |\n",
      "| \u001b[0m 26      \u001b[0m | \u001b[0m-75.58   \u001b[0m | \u001b[0m 7.91    \u001b[0m | \u001b[0m-2.743   \u001b[0m |\n",
      "| \u001b[0m 27      \u001b[0m | \u001b[0m-57.99   \u001b[0m | \u001b[0m 2.751   \u001b[0m | \u001b[0m-6.171   \u001b[0m |\n",
      "| \u001b[0m 28      \u001b[0m | \u001b[0m-53.04   \u001b[0m | \u001b[0m-0.04412 \u001b[0m | \u001b[0m-6.351   \u001b[0m |\n",
      "| \u001b[0m 29      \u001b[0m | \u001b[0m-74.6    \u001b[0m | \u001b[0m 8.368   \u001b[0m | \u001b[0m-1.364   \u001b[0m |\n",
      "| \u001b[0m 30      \u001b[0m | \u001b[0m-49.71   \u001b[0m | \u001b[0m 6.604   \u001b[0m | \u001b[0m-1.664   \u001b[0m |\n",
      "| \u001b[0m 31      \u001b[0m | \u001b[0m-72.93   \u001b[0m | \u001b[0m 8.093   \u001b[0m | \u001b[0m-1.903   \u001b[0m |\n",
      "| \u001b[0m 32      \u001b[0m | \u001b[0m-10.6    \u001b[0m | \u001b[0m-3.377   \u001b[0m | \u001b[0m 1.443   \u001b[0m |\n",
      "| \u001b[0m 33      \u001b[0m | \u001b[0m-85.42   \u001b[0m | \u001b[0m 6.909   \u001b[0m | \u001b[0m 7.22    \u001b[0m |\n",
      "| \u001b[0m 34      \u001b[0m | \u001b[0m-89.28   \u001b[0m | \u001b[0m 1.914   \u001b[0m | \u001b[0m-8.307   \u001b[0m |\n",
      "| \u001b[0m 35      \u001b[0m | \u001b[0m-39.88   \u001b[0m | \u001b[0m 1.945   \u001b[0m | \u001b[0m-5.091   \u001b[0m |\n",
      "| \u001b[0m 36      \u001b[0m | \u001b[0m-68.15   \u001b[0m | \u001b[0m 4.652   \u001b[0m | \u001b[0m 7.893   \u001b[0m |\n",
      "| \u001b[95m 37      \u001b[0m | \u001b[95m-0.2345  \u001b[0m | \u001b[95m 0.2947  \u001b[0m | \u001b[95m 2.071   \u001b[0m |\n",
      "| \u001b[0m 38      \u001b[0m | \u001b[0m-74.71   \u001b[0m | \u001b[0m-8.699   \u001b[0m | \u001b[0m 0.8015  \u001b[0m |\n",
      "| \u001b[0m 39      \u001b[0m | \u001b[0m-55.67   \u001b[0m | \u001b[0m-7.416   \u001b[0m | \u001b[0m 2.291   \u001b[0m |\n",
      "| \u001b[0m 40      \u001b[0m | \u001b[0m-25.4    \u001b[0m | \u001b[0m-2.727   \u001b[0m | \u001b[0m 5.355   \u001b[0m |\n",
      "| \u001b[95m 41      \u001b[0m | \u001b[95m 0.3387  \u001b[0m | \u001b[95m-0.0959  \u001b[0m | \u001b[95m 1.808   \u001b[0m |\n",
      "| \u001b[95m 42      \u001b[0m | \u001b[95m 0.4195  \u001b[0m | \u001b[95m-0.51    \u001b[0m | \u001b[95m 1.566   \u001b[0m |\n",
      "| \u001b[0m 43      \u001b[0m | \u001b[0m 0.2723  \u001b[0m | \u001b[0m-0.4294  \u001b[0m | \u001b[0m 1.737   \u001b[0m |\n",
      "| \u001b[95m 44      \u001b[0m | \u001b[95m 0.8357  \u001b[0m | \u001b[95m-0.1684  \u001b[0m | \u001b[95m 1.369   \u001b[0m |\n",
      "| \u001b[95m 45      \u001b[0m | \u001b[95m 0.9362  \u001b[0m | \u001b[95m-0.06578 \u001b[0m | \u001b[95m 1.244   \u001b[0m |\n",
      "=================================================\n",
      "Bayesian took: 18.37803602218628\n"
     ]
    }
   ],
   "source": [
    "timestamp = time.time()\n",
    "Bopt.maximize(\n",
    "    init_points=40,\n",
    "    n_iter=5,\n",
    ")\n",
    "\n",
    "print(\"Bayesian took: {}\".format(time.time() - timestamp))"
   ]
  },
  {
   "cell_type": "code",
   "execution_count": null,
   "metadata": {},
   "outputs": [
    {
     "name": "stdout",
     "output_type": "stream",
     "text": [
      "sample [-7.9506826  3.7805414] target -69.94476503144142\n",
      "sample [8.921061  8.7759495] target -139.05071183999098\n",
      "sample [-9.064784    0.49090862] target -81.42948390331185\n",
      "sample [-2.6754522  -0.28281212] target -7.80365157909273\n",
      "sample [-8.649967 -7.07283 ] target -138.99251989160257\n",
      "sample [ 0.26113987 -6.4866543 ] target -55.11818636398402\n",
      "sample [ 6.9432354 -9.17829  ] target -150.8061125803988\n",
      "sample [-8.628116  -0.6577587] target -76.19254368841666\n",
      "sample [ 1.1841869 -0.7453203] target -3.4484417178873628\n",
      "sample [ 8.977568  -7.9508066] target -159.71366042655882\n",
      "sample [2.1747952 7.562664 ] target -46.79829314443123\n",
      "sample [3.8204384 3.562725 ] target -20.163309223396936\n",
      "sample [-2.3197556  3.2399035] target -9.398433296614712\n",
      "sample [5.474572  2.1385307] target -30.26719279855115\n",
      "sample [-7.9304385  7.303171 ] target -101.62182174107897\n",
      "sample [ 1.2476997 -6.2512684] target -53.13764785307649\n",
      "sample [-6.2219334  7.4100323] target -78.80096852928546\n",
      "sample [4.150319  0.6056547] target -16.380656829687723\n",
      "sample [-2.1642637 -2.490933 ] target -15.870650274174523\n",
      "sample [-7.350211 -6.572776] target -110.37253778832564\n",
      "sample [ 3.378498   -0.09632111] target -11.616169226312195\n",
      "sample [ 7.4518566 -7.988658 ] target -135.32613874954131\n",
      "sample [0.16602325 2.4568462 ] target -1.1499646797929017\n",
      "sample [-2.4180698  9.796696 ] target -82.22891714935031\n",
      "sample [4.8246  8.58115] target -79.75060343557561\n",
      "sample [-2.7521157  8.74851  ] target -66.61355378203939\n",
      "sample [-2.2299838 -5.4992247] target -46.21274899504101\n",
      "sample [-5.9499383  9.752056 ] target -111.00025210093577\n",
      "sample [-5.129838 -6.065266] target -75.2332233226673\n",
      "sample [-7.314334   2.9140549] target -56.16308667820067\n",
      "sample [-9.756427 -6.812103] target -155.2168141967934\n",
      "sample [-6.463647  -2.1848917] target -50.922266247698644\n",
      "sample [ 6.1812897 -5.0311637] target -73.5832775051224\n",
      "sample [-3.7176728 -9.625723 ] target -125.72707806431413\n",
      "sample [ 7.3618927 -3.1872797] target -70.7307754255462\n",
      "sample [ 0.22629738 -2.852633  ] target -13.893991531755319\n",
      "sample [-8.531464  -6.5111637] target -128.2034518530454\n",
      "sample [ 7.4403076 -6.661148 ] target -113.05136720859446\n",
      "sample [-0.6609869 -2.9303408] target -14.884482226416367\n",
      "sample [-2.9366493  3.8726254] target -15.87588565033002\n",
      "sample [-7.75563   -5.8579993] target -106.18195168908869\n",
      "sample [-6.7692804 -3.9511013] target -69.33656170302584\n",
      "sample [-3.312204  7.888029] target -57.41563943194183\n",
      "sample [5.42994   1.8425255] target -29.194100021007216\n",
      "sample [ 7.4699974 -1.9333696] target -63.40551867028353\n",
      "sample [ 9.2718525 -4.6976614] target -117.4305940844979\n",
      "sample [9.266111   0.83229256] target -84.88894578006148\n",
      "sample [-5.741956  6.087534] target -57.85306309352222\n",
      "sample [5.6158543 0.7707119] target -30.590392140038603\n",
      "sample [5.2373743  0.12992382] target -27.187122176410412\n",
      "Best random [0.16602325 2.4568462 ] -1.1499646797929017\n",
      "sample [-0.18889463  0.8566717 ] target 0.9437758147764441\n",
      "sample [0.8008735  0.75171566] target 0.29695649474018637\n",
      "sample [-0.7163372   0.53810024] target 0.273509624322287\n",
      "sample [0.5163598 1.3276439] target 0.6260220442795799\n",
      "sample [0.12884226 1.1566371 ] target 0.9588644983995556\n",
      "sample [0.44094086 0.72468114] target 0.729770685460096\n"
     ]
    }
   ],
   "source": [
    "timestamp = time.time()\n",
    "best, target = Nopt.run(random=50, optimization=10, fitting=10000, verbose=True)\n",
    "\n",
    "print(\"Best\", best, \"target\", target)\n",
    "print(black_box_functionB(*best))\n",
    "print(\"NNopt took:\", time.time() - timestamp)"
   ]
  },
  {
   "cell_type": "code",
   "execution_count": null,
   "metadata": {},
   "outputs": [],
   "source": []
  }
 ],
 "metadata": {
  "kernelspec": {
   "display_name": "Python 3",
   "language": "python",
   "name": "python3"
  },
  "language_info": {
   "codemirror_mode": {
    "name": "ipython",
    "version": 3
   },
   "file_extension": ".py",
   "mimetype": "text/x-python",
   "name": "python",
   "nbconvert_exporter": "python",
   "pygments_lexer": "ipython3",
   "version": "3.6.5"
  }
 },
 "nbformat": 4,
 "nbformat_minor": 2
}
