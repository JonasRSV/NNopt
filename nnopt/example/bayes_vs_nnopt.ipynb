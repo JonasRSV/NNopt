{
 "cells": [
  {
   "cell_type": "markdown",
   "metadata": {},
   "source": [
    "Bayesian Optimization & NN Opt\n",
    "---"
   ]
  },
  {
   "cell_type": "code",
   "execution_count": 1,
   "metadata": {},
   "outputs": [],
   "source": [
    "from bayes_opt import BayesianOptimization\n",
    "from nnopt.nnopt import Optimizer\n",
    "import time\n"
   ]
  },
  {
   "cell_type": "code",
   "execution_count": 2,
   "metadata": {},
   "outputs": [],
   "source": [
    "def black_box_function(x, y):\n",
    "    \"\"\"Function with unknown internals we wish to maximize.\n",
    "\n",
    "    This is just serving as an example, for all intents and\n",
    "    purposes think of the internals of this function, i.e.: the process\n",
    "    which generates its output values, as unknown.\n",
    "    \"\"\"\n",
    "    return -x ** 2 - (y - 1) ** 2 + 1"
   ]
  },
  {
   "cell_type": "code",
   "execution_count": 3,
   "metadata": {},
   "outputs": [],
   "source": [
    "Nopt = Optimizer(black_box_function, N=2, surrogate_hidden_layer=40, Rn=[(2, 4), (-3, 3)])\n",
    "\n",
    "Bopt = BayesianOptimization(\n",
    "    f=black_box_function,\n",
    "    pbounds={'x': (2, 4), 'y': (-3, 3)},\n",
    "    random_state=1,\n",
    ")"
   ]
  },
  {
   "cell_type": "markdown",
   "metadata": {},
   "source": [
    "Bayesian\n",
    "---"
   ]
  },
  {
   "cell_type": "code",
   "execution_count": 4,
   "metadata": {},
   "outputs": [
    {
     "name": "stdout",
     "output_type": "stream",
     "text": [
      "|   iter    |  target   |     x     |     y     |\n",
      "-------------------------------------------------\n",
      "| \u001b[0m 1       \u001b[0m | \u001b[0m-7.135   \u001b[0m | \u001b[0m 2.834   \u001b[0m | \u001b[0m 1.322   \u001b[0m |\n",
      "| \u001b[0m 2       \u001b[0m | \u001b[0m-7.78    \u001b[0m | \u001b[0m 2.0     \u001b[0m | \u001b[0m-1.186   \u001b[0m |\n",
      "| \u001b[0m 3       \u001b[0m | \u001b[0m-16.13   \u001b[0m | \u001b[0m 2.294   \u001b[0m | \u001b[0m-2.446   \u001b[0m |\n",
      "| \u001b[0m 4       \u001b[0m | \u001b[0m-8.341   \u001b[0m | \u001b[0m 2.373   \u001b[0m | \u001b[0m-0.9266  \u001b[0m |\n",
      "| \u001b[0m 5       \u001b[0m | \u001b[0m-7.392   \u001b[0m | \u001b[0m 2.794   \u001b[0m | \u001b[0m 0.2329  \u001b[0m |\n",
      "| \u001b[95m 6       \u001b[0m | \u001b[95m-7.069   \u001b[0m | \u001b[95m 2.838   \u001b[0m | \u001b[95m 1.111   \u001b[0m |\n",
      "| \u001b[95m 7       \u001b[0m | \u001b[95m-6.412   \u001b[0m | \u001b[95m 2.409   \u001b[0m | \u001b[95m 2.269   \u001b[0m |\n",
      "| \u001b[95m 8       \u001b[0m | \u001b[95m-3.223   \u001b[0m | \u001b[95m 2.055   \u001b[0m | \u001b[95m 1.023   \u001b[0m |\n",
      "| \u001b[0m 9       \u001b[0m | \u001b[0m-7.455   \u001b[0m | \u001b[0m 2.835   \u001b[0m | \u001b[0m 0.3521  \u001b[0m |\n",
      "| \u001b[0m 10      \u001b[0m | \u001b[0m-12.11   \u001b[0m | \u001b[0m 2.281   \u001b[0m | \u001b[0m-1.811   \u001b[0m |\n",
      "| \u001b[95m 11      \u001b[0m | \u001b[95m-3.071   \u001b[0m | \u001b[95m 2.0     \u001b[0m | \u001b[95m 1.266   \u001b[0m |\n",
      "| \u001b[0m 12      \u001b[0m | \u001b[0m-3.671   \u001b[0m | \u001b[0m 2.151   \u001b[0m | \u001b[0m 1.211   \u001b[0m |\n",
      "| \u001b[95m 13      \u001b[0m | \u001b[95m-3.017   \u001b[0m | \u001b[95m 2.0     \u001b[0m | \u001b[95m 1.13    \u001b[0m |\n",
      "| \u001b[0m 14      \u001b[0m | \u001b[0m-3.036   \u001b[0m | \u001b[0m 2.0     \u001b[0m | \u001b[0m 0.809   \u001b[0m |\n",
      "| \u001b[0m 15      \u001b[0m | \u001b[0m-3.211   \u001b[0m | \u001b[0m 2.0     \u001b[0m | \u001b[0m 0.5403  \u001b[0m |\n",
      "| \u001b[95m 16      \u001b[0m | \u001b[95m-3.001   \u001b[0m | \u001b[95m 2.0     \u001b[0m | \u001b[95m 0.9615  \u001b[0m |\n",
      "| \u001b[95m 17      \u001b[0m | \u001b[95m-3.001   \u001b[0m | \u001b[95m 2.0     \u001b[0m | \u001b[95m 1.035   \u001b[0m |\n",
      "| \u001b[95m 18      \u001b[0m | \u001b[95m-3.0     \u001b[0m | \u001b[95m 2.0     \u001b[0m | \u001b[95m 0.9978  \u001b[0m |\n",
      "| \u001b[0m 19      \u001b[0m | \u001b[0m-3.008   \u001b[0m | \u001b[0m 2.0     \u001b[0m | \u001b[0m 0.9123  \u001b[0m |\n",
      "| \u001b[95m 20      \u001b[0m | \u001b[95m-3.0     \u001b[0m | \u001b[95m 2.0     \u001b[0m | \u001b[95m 1.0     \u001b[0m |\n",
      "| \u001b[0m 21      \u001b[0m | \u001b[0m-3.0     \u001b[0m | \u001b[0m 2.0     \u001b[0m | \u001b[0m 1.003   \u001b[0m |\n",
      "| \u001b[0m 22      \u001b[0m | \u001b[0m-3.001   \u001b[0m | \u001b[0m 2.0     \u001b[0m | \u001b[0m 0.9866  \u001b[0m |\n",
      "| \u001b[0m 23      \u001b[0m | \u001b[0m-3.0     \u001b[0m | \u001b[0m 2.0     \u001b[0m | \u001b[0m 1.01    \u001b[0m |\n",
      "| \u001b[0m 24      \u001b[0m | \u001b[0m-3.0     \u001b[0m | \u001b[0m 2.0     \u001b[0m | \u001b[0m 0.9848  \u001b[0m |\n",
      "| \u001b[0m 25      \u001b[0m | \u001b[0m-3.001   \u001b[0m | \u001b[0m 2.0     \u001b[0m | \u001b[0m 1.038   \u001b[0m |\n",
      "| \u001b[0m 26      \u001b[0m | \u001b[0m-3.007   \u001b[0m | \u001b[0m 2.001   \u001b[0m | \u001b[0m 0.9483  \u001b[0m |\n",
      "| \u001b[0m 27      \u001b[0m | \u001b[0m-19.0    \u001b[0m | \u001b[0m 4.0     \u001b[0m | \u001b[0m 3.0     \u001b[0m |\n",
      "| \u001b[0m 28      \u001b[0m | \u001b[0m-3.37    \u001b[0m | \u001b[0m 2.0     \u001b[0m | \u001b[0m 1.608   \u001b[0m |\n",
      "| \u001b[0m 29      \u001b[0m | \u001b[0m-3.0     \u001b[0m | \u001b[0m 2.0     \u001b[0m | \u001b[0m 1.003   \u001b[0m |\n",
      "| \u001b[0m 30      \u001b[0m | \u001b[0m-3.0     \u001b[0m | \u001b[0m 2.0     \u001b[0m | \u001b[0m 1.001   \u001b[0m |\n",
      "| \u001b[0m 31      \u001b[0m | \u001b[0m-3.0     \u001b[0m | \u001b[0m 2.0     \u001b[0m | \u001b[0m 1.002   \u001b[0m |\n",
      "| \u001b[0m 32      \u001b[0m | \u001b[0m-3.0     \u001b[0m | \u001b[0m 2.0     \u001b[0m | \u001b[0m 0.9864  \u001b[0m |\n",
      "| \u001b[0m 33      \u001b[0m | \u001b[0m-3.0     \u001b[0m | \u001b[0m 2.0     \u001b[0m | \u001b[0m 0.978   \u001b[0m |\n",
      "| \u001b[0m 34      \u001b[0m | \u001b[0m-3.0     \u001b[0m | \u001b[0m 2.0     \u001b[0m | \u001b[0m 0.9851  \u001b[0m |\n",
      "| \u001b[0m 35      \u001b[0m | \u001b[0m-3.002   \u001b[0m | \u001b[0m 2.0     \u001b[0m | \u001b[0m 1.048   \u001b[0m |\n",
      "| \u001b[0m 36      \u001b[0m | \u001b[0m-3.0     \u001b[0m | \u001b[0m 2.0     \u001b[0m | \u001b[0m 0.9953  \u001b[0m |\n",
      "| \u001b[0m 37      \u001b[0m | \u001b[0m-3.0     \u001b[0m | \u001b[0m 2.0     \u001b[0m | \u001b[0m 1.006   \u001b[0m |\n",
      "| \u001b[0m 38      \u001b[0m | \u001b[0m-3.0     \u001b[0m | \u001b[0m 2.0     \u001b[0m | \u001b[0m 1.013   \u001b[0m |\n",
      "| \u001b[0m 39      \u001b[0m | \u001b[0m-3.0     \u001b[0m | \u001b[0m 2.0     \u001b[0m | \u001b[0m 1.01    \u001b[0m |\n",
      "| \u001b[0m 40      \u001b[0m | \u001b[0m-3.0     \u001b[0m | \u001b[0m 2.0     \u001b[0m | \u001b[0m 1.007   \u001b[0m |\n",
      "| \u001b[0m 41      \u001b[0m | \u001b[0m-3.001   \u001b[0m | \u001b[0m 2.0     \u001b[0m | \u001b[0m 0.9628  \u001b[0m |\n",
      "| \u001b[0m 42      \u001b[0m | \u001b[0m-3.0     \u001b[0m | \u001b[0m 2.0     \u001b[0m | \u001b[0m 1.003   \u001b[0m |\n",
      "| \u001b[0m 43      \u001b[0m | \u001b[0m-3.0     \u001b[0m | \u001b[0m 2.0     \u001b[0m | \u001b[0m 0.9958  \u001b[0m |\n",
      "| \u001b[0m 44      \u001b[0m | \u001b[0m-3.0     \u001b[0m | \u001b[0m 2.0     \u001b[0m | \u001b[0m 1.0     \u001b[0m |\n",
      "| \u001b[0m 45      \u001b[0m | \u001b[0m-3.0     \u001b[0m | \u001b[0m 2.0     \u001b[0m | \u001b[0m 1.014   \u001b[0m |\n",
      "| \u001b[0m 46      \u001b[0m | \u001b[0m-3.0     \u001b[0m | \u001b[0m 2.0     \u001b[0m | \u001b[0m 0.9824  \u001b[0m |\n",
      "| \u001b[0m 47      \u001b[0m | \u001b[0m-3.005   \u001b[0m | \u001b[0m 2.001   \u001b[0m | \u001b[0m 0.9712  \u001b[0m |\n",
      "| \u001b[0m 48      \u001b[0m | \u001b[0m-3.0     \u001b[0m | \u001b[0m 2.0     \u001b[0m | \u001b[0m 1.017   \u001b[0m |\n",
      "| \u001b[0m 49      \u001b[0m | \u001b[0m-3.006   \u001b[0m | \u001b[0m 2.0     \u001b[0m | \u001b[0m 1.077   \u001b[0m |\n",
      "| \u001b[0m 50      \u001b[0m | \u001b[0m-3.0     \u001b[0m | \u001b[0m 2.0     \u001b[0m | \u001b[0m 1.004   \u001b[0m |\n",
      "=================================================\n",
      "Bayesian took: 155.23810982704163\n"
     ]
    }
   ],
   "source": [
    "timestamp = time.time()\n",
    "Bopt.maximize(\n",
    "    init_points=10,\n",
    "    n_iter=40,\n",
    ")\n",
    "\n",
    "print(\"Bayesian took: {}\".format(time.time() - timestamp))"
   ]
  },
  {
   "cell_type": "code",
   "execution_count": 5,
   "metadata": {},
   "outputs": [
    {
     "name": "stdout",
     "output_type": "stream",
     "text": [
      "sample [3.9024177 1.5430565] target -14.52377394040218\n",
      "sample [ 2.0618443 -0.6086683] target -5.839015906481336\n",
      "sample [ 2.4145553 -0.6857493] target -7.671828027596916\n",
      "sample [3.1636212 1.1112328] target -9.020871742520796\n",
      "sample [2.1675224  0.41651058] target -4.038613387326222\n",
      "sample [3.085648  1.1384745] target -8.54039912652047\n",
      "sample [2.0755537 1.7884398] target -3.929560217814526\n",
      "sample [ 3.1486366  -0.62490606] target -11.554232023684392\n",
      "sample [ 2.9852064 -1.5913081] target -14.626334801909536\n",
      "sample [ 2.9101107 -2.2670088] target -18.142090734357282\n",
      "Best random [2.0755537 1.7884398] -3.929560217814526\n",
      "sample [1.8108096 1.8586013] target -3.0162276987201153\n",
      "sample [1.2890996 2.151417 ] target -1.9875388589146752\n",
      "sample [0.51930785 2.7519808 ] target -2.3391173038708644\n",
      "sample [-0.27398095  3.5131197 ] target -5.390836172732542\n",
      "sample [-0.90291846  4.159078  ] target -9.795036317521536\n",
      "sample [-1.4299126  4.620575 ] target -14.153212926714332\n",
      "sample [-1.9334027  4.828362 ] target -17.394401347743397\n",
      "sample [-2.3013794  4.706571 ] target -18.035016672286304\n",
      "sample [-2.4861972  4.363207 ] target -16.4923370884149\n",
      "sample [1.2018448 2.150401 ] target -1.7678536771378646\n",
      "sample [3.8012705 2.141922 ] target -14.753643146949798\n",
      "sample [3.8371847 2.4402568] target -15.798325921137462\n",
      "sample [3.8716657 2.6112103] target -16.585794197548523\n",
      "sample [3.8159785 2.7169108] target -16.50947494840557\n",
      "sample [1.2172878 1.9869004] target -1.4557620323881366\n",
      "sample [1.1440903 1.8961446] target -1.1120177979762076\n",
      "sample [1.0190558 1.8462801] target -0.7546648160780478\n",
      "sample [0.87638205 1.8114012 ] target -0.4264174878630236\n",
      "sample [0.7510741 1.7745798] target -0.16408607707501233\n",
      "sample [0.6566385 1.7310638] target 0.034371534069222776\n",
      "sample [0.5893983 1.6808679] target 0.18902850369664392\n",
      "sample [0.54007995 1.623888  ] target 0.31907739002575397\n",
      "sample [0.49957755 1.5596919 ] target 0.43716723984328976\n",
      "sample [0.4617962 1.4878445] target 0.5487520507745876\n",
      "sample [0.42376697 1.4082898 ] target 0.6537210018557005\n",
      "sample [0.38436058 1.3217173 ] target 0.7487649464428463\n",
      "sample [0.3433077 1.2294726] target 0.8294821293445258\n",
      "sample [0.30078533 1.1331326 ] target 0.8918039004579716\n",
      "sample [0.2574002 1.0345547] target 0.9325511008176726\n",
      "sample [0.2142815 0.936412 ] target 0.95004000232829\n",
      "sample [0.1729441 0.8421924] target 0.945187103708462\n",
      "sample [0.1350474 0.7559399] target 0.9221968661591076\n",
      "sample [0.10228387 0.681711  ] target 0.8882301349088264\n",
      "sample [0.07570069 0.62130576] target 0.8508600816421301\n",
      "sample [0.05533847 0.57408535] target 0.8155343689232628\n",
      "sample [0.04083326 0.5385838 ] target 0.7854277488132864\n",
      "sample [0.03177653 0.51320195] target 0.762017912424813\n",
      "sample [0.02770832 0.49632457] target 0.74554330930269\n",
      "sample [0.02811614 0.486401  ] target 0.7354255415029467\n",
      "sample [0.03256373 0.48224938] target 0.7308738980362628\n",
      "Best [0.2142815 0.936412 ] target 0.95004000232829\n",
      "0.95004000232829\n",
      "NNopt took: 6.074472904205322\n"
     ]
    }
   ],
   "source": [
    "timestamp = time.time()\n",
    "best, target = Nopt.run(random=10, optimization=40, fitting=100, verbose=True)\n",
    "\n",
    "print(\"Best\", best, \"target\", target)\n",
    "print(black_box_function(*best))\n",
    "print(\"NNopt took:\", time.time() - timestamp)"
   ]
  },
  {
   "cell_type": "code",
   "execution_count": null,
   "metadata": {},
   "outputs": [],
   "source": []
  }
 ],
 "metadata": {
  "kernelspec": {
   "display_name": "Python 3",
   "language": "python",
   "name": "python3"
  },
  "language_info": {
   "codemirror_mode": {
    "name": "ipython",
    "version": 3
   },
   "file_extension": ".py",
   "mimetype": "text/x-python",
   "name": "python",
   "nbconvert_exporter": "python",
   "pygments_lexer": "ipython3",
   "version": "3.6.5"
  }
 },
 "nbformat": 4,
 "nbformat_minor": 2
}
