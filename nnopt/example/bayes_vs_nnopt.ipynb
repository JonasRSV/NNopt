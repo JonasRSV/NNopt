{
 "cells": [
  {
   "cell_type": "markdown",
   "metadata": {},
   "source": [
    "Bayesian Optimization & NN Opt\n",
    "---"
   ]
  },
  {
   "cell_type": "code",
   "execution_count": 1,
   "metadata": {},
   "outputs": [],
   "source": [
    "from bayes_opt import BayesianOptimization\n",
    "from nnopt.nnopt import Optimizer\n",
    "import time\n",
    "import numpy as np\n",
    "import gym\n"
   ]
  },
  {
   "cell_type": "code",
   "execution_count": 2,
   "metadata": {},
   "outputs": [
    {
     "name": "stdout",
     "output_type": "stream",
     "text": [
      "\u001b[33mWARN: gym.spaces.Box autodetected dtype as <class 'numpy.float32'>. Please provide explicit dtype.\u001b[0m\n",
      "\u001b[33mWARN: gym.spaces.Box autodetected dtype as <class 'numpy.float32'>. Please provide explicit dtype.\u001b[0m\n",
      "Box(1,)\n",
      "Box(2,)\n"
     ]
    },
    {
     "name": "stderr",
     "output_type": "stream",
     "text": [
      "/usr/local/lib/python3.6/site-packages/gym/envs/registration.py:14: DeprecationWarning: Parameters to load are deprecated.  Call .resolve and .require separately.\n",
      "  result = entry_point.load(False)\n"
     ]
    }
   ],
   "source": [
    "ll = gym.make(\"MountainCarContinuous-v0\")\n",
    "print(ll.action_space)\n",
    "print(ll.observation_space)\n",
    "\n",
    "def black_box_functionA(a, b):\n",
    "    \"\"\"Function with unknown internals we wish to maximize.\n",
    "\n",
    "    This is just serving as an example, for all intents and\n",
    "    purposes think of the internals of this function, i.e.: the process\n",
    "    which generates its output values, as unknown.\n",
    "    \"\"\"\n",
    "    transform = np.array([[a, b]])\n",
    "    \n",
    "    sc = 0\n",
    "    for _ in range(4):\n",
    "        s = ll.reset()\n",
    "        done = False\n",
    "        while not done:\n",
    "            #ll.render()\n",
    "            s, r, done, _ = ll.step(transform @ s)\n",
    "            sc += r\n",
    "\n",
    "    return sc / 4\n",
    "\n",
    "def black_box_functionB(a, b):\n",
    "    \"\"\"Function with unknown internals we wish to maximize.\n",
    "\n",
    "    This is just serving as an example, for all intents and\n",
    "    purposes think of the internals of this function, i.e.: the process\n",
    "    which generates its output values, as unknown.\n",
    "    \"\"\"\n",
    "    return -a ** 2 - (b - 1) ** 2 + 1\n",
    "\n",
    "#print(black_box_function(-221.59328, 28.267517))"
   ]
  },
  {
   "cell_type": "code",
   "execution_count": 3,
   "metadata": {},
   "outputs": [],
   "source": [
    "Nopt = Optimizer(black_box_functionB, N=2, surrogate_hidden_layer=1000, memory_hidden_layer=1000,\n",
    "                 Rn=[(-10, 10), (-10, 10)]) #(-10, 10), (-10, 10), (-10, 10), (-10, 10)])\n",
    "\n",
    "Bopt = BayesianOptimization(\n",
    "    f=black_box_functionB,\n",
    "    pbounds={'a': (-10, 10), 'b': (-10, 10)#, 'c': (-10, 10), \n",
    "             #'d': (-10, 10), 'e': (-10, 10), 'f': (-10, 10)},\n",
    "            },\n",
    "    random_state=np.random.randint(10),\n",
    ")"
   ]
  },
  {
   "cell_type": "markdown",
   "metadata": {},
   "source": [
    "Bayesian\n",
    "---"
   ]
  },
  {
   "cell_type": "code",
   "execution_count": 4,
   "metadata": {},
   "outputs": [
    {
     "name": "stdout",
     "output_type": "stream",
     "text": [
      "|   iter    |  target   |     a     |     b     |\n",
      "-------------------------------------------------\n",
      "| \u001b[0m 1       \u001b[0m | \u001b[0m-71.06   \u001b[0m | \u001b[0m-5.56    \u001b[0m | \u001b[0m 7.415   \u001b[0m |\n",
      "| \u001b[0m 2       \u001b[0m | \u001b[0m-87.76   \u001b[0m | \u001b[0m-5.866   \u001b[0m | \u001b[0m 8.372   \u001b[0m |\n",
      "| \u001b[95m 3       \u001b[0m | \u001b[95m-0.5786  \u001b[0m | \u001b[95m-0.2318  \u001b[0m | \u001b[95m 2.235   \u001b[0m |\n",
      "| \u001b[0m 4       \u001b[0m | \u001b[0m-27.68   \u001b[0m | \u001b[0m 5.318   \u001b[0m | \u001b[0m 0.3684  \u001b[0m |\n",
      "| \u001b[0m 5       \u001b[0m | \u001b[0m-68.01   \u001b[0m | \u001b[0m-4.064   \u001b[0m | \u001b[0m-6.246   \u001b[0m |\n",
      "| \u001b[0m 6       \u001b[0m | \u001b[0m-83.52   \u001b[0m | \u001b[0m-8.385   \u001b[0m | \u001b[0m 4.769   \u001b[0m |\n",
      "| \u001b[0m 7       \u001b[0m | \u001b[0m-61.75   \u001b[0m | \u001b[0m-1.174   \u001b[0m | \u001b[0m-6.834   \u001b[0m |\n",
      "| \u001b[0m 8       \u001b[0m | \u001b[0m-87.19   \u001b[0m | \u001b[0m 7.599   \u001b[0m | \u001b[0m-4.518   \u001b[0m |\n",
      "| \u001b[0m 9       \u001b[0m | \u001b[0m-27.73   \u001b[0m | \u001b[0m-1.715   \u001b[0m | \u001b[0m-4.078   \u001b[0m |\n",
      "| \u001b[0m 10      \u001b[0m | \u001b[0m-5.991   \u001b[0m | \u001b[0m 2.576   \u001b[0m | \u001b[0m 1.597   \u001b[0m |\n",
      "| \u001b[0m 11      \u001b[0m | \u001b[0m-35.3    \u001b[0m | \u001b[0m 1.999   \u001b[0m | \u001b[0m-4.684   \u001b[0m |\n",
      "| \u001b[0m 12      \u001b[0m | \u001b[0m-52.69   \u001b[0m | \u001b[0m-4.306   \u001b[0m | \u001b[0m-4.928   \u001b[0m |\n",
      "| \u001b[0m 13      \u001b[0m | \u001b[0m-76.77   \u001b[0m | \u001b[0m-3.449   \u001b[0m | \u001b[0m-7.117   \u001b[0m |\n",
      "| \u001b[0m 14      \u001b[0m | \u001b[0m-112.3   \u001b[0m | \u001b[0m-6.688   \u001b[0m | \u001b[0m 9.279   \u001b[0m |\n",
      "| \u001b[0m 15      \u001b[0m | \u001b[0m-136.0   \u001b[0m | \u001b[0m 9.205   \u001b[0m | \u001b[0m-6.232   \u001b[0m |\n",
      "| \u001b[0m 16      \u001b[0m | \u001b[0m-137.2   \u001b[0m | \u001b[0m-9.514   \u001b[0m | \u001b[0m-5.909   \u001b[0m |\n",
      "| \u001b[0m 17      \u001b[0m | \u001b[0m-36.05   \u001b[0m | \u001b[0m 3.997   \u001b[0m | \u001b[0m 5.59    \u001b[0m |\n",
      "| \u001b[0m 18      \u001b[0m | \u001b[0m-90.34   \u001b[0m | \u001b[0m-9.541   \u001b[0m | \u001b[0m 1.553   \u001b[0m |\n",
      "| \u001b[0m 19      \u001b[0m | \u001b[0m-98.82   \u001b[0m | \u001b[0m-9.967   \u001b[0m | \u001b[0m 0.3095  \u001b[0m |\n",
      "| \u001b[0m 20      \u001b[0m | \u001b[0m-82.72   \u001b[0m | \u001b[0m 2.796   \u001b[0m | \u001b[0m 9.712   \u001b[0m |\n",
      "| \u001b[0m 21      \u001b[0m | \u001b[0m-47.72   \u001b[0m | \u001b[0m-4.818   \u001b[0m | \u001b[0m 6.05    \u001b[0m |\n",
      "| \u001b[0m 22      \u001b[0m | \u001b[0m-109.5   \u001b[0m | \u001b[0m 7.41    \u001b[0m | \u001b[0m 8.455   \u001b[0m |\n",
      "| \u001b[0m 23      \u001b[0m | \u001b[0m-100.7   \u001b[0m | \u001b[0m-9.956   \u001b[0m | \u001b[0m-0.6102  \u001b[0m |\n",
      "| \u001b[0m 24      \u001b[0m | \u001b[0m-100.9   \u001b[0m | \u001b[0m 9.629   \u001b[0m | \u001b[0m-2.021   \u001b[0m |\n",
      "| \u001b[0m 25      \u001b[0m | \u001b[0m-38.38   \u001b[0m | \u001b[0m 6.275   \u001b[0m | \u001b[0m 0.9291  \u001b[0m |\n",
      "| \u001b[0m 26      \u001b[0m | \u001b[0m-30.04   \u001b[0m | \u001b[0m 5.417   \u001b[0m | \u001b[0m-0.3014  \u001b[0m |\n",
      "| \u001b[0m 27      \u001b[0m | \u001b[0m-173.6   \u001b[0m | \u001b[0m-9.418   \u001b[0m | \u001b[0m-8.269   \u001b[0m |\n",
      "| \u001b[0m 28      \u001b[0m | \u001b[0m-95.09   \u001b[0m | \u001b[0m-7.771   \u001b[0m | \u001b[0m-4.975   \u001b[0m |\n",
      "| \u001b[0m 29      \u001b[0m | \u001b[0m-88.13   \u001b[0m | \u001b[0m 9.298   \u001b[0m | \u001b[0m 2.635   \u001b[0m |\n",
      "| \u001b[0m 30      \u001b[0m | \u001b[0m-39.21   \u001b[0m | \u001b[0m 6.333   \u001b[0m | \u001b[0m 1.322   \u001b[0m |\n",
      "| \u001b[0m 31      \u001b[0m | \u001b[0m-33.77   \u001b[0m | \u001b[0m 2.707   \u001b[0m | \u001b[0m 6.238   \u001b[0m |\n",
      "| \u001b[0m 32      \u001b[0m | \u001b[0m-124.4   \u001b[0m | \u001b[0m 8.534   \u001b[0m | \u001b[0m 8.253   \u001b[0m |\n",
      "| \u001b[0m 33      \u001b[0m | \u001b[0m-124.3   \u001b[0m | \u001b[0m 6.496   \u001b[0m | \u001b[0m-8.116   \u001b[0m |\n",
      "| \u001b[0m 34      \u001b[0m | \u001b[0m-112.6   \u001b[0m | \u001b[0m-2.779   \u001b[0m | \u001b[0m-9.29    \u001b[0m |\n",
      "| \u001b[0m 35      \u001b[0m | \u001b[0m-24.09   \u001b[0m | \u001b[0m 0.9272  \u001b[0m | \u001b[0m 5.923   \u001b[0m |\n",
      "| \u001b[0m 36      \u001b[0m | \u001b[0m-131.8   \u001b[0m | \u001b[0m-8.977   \u001b[0m | \u001b[0m-6.227   \u001b[0m |\n",
      "| \u001b[0m 37      \u001b[0m | \u001b[0m-43.62   \u001b[0m | \u001b[0m-2.69    \u001b[0m | \u001b[0m-5.114   \u001b[0m |\n",
      "| \u001b[0m 38      \u001b[0m | \u001b[0m-49.5    \u001b[0m | \u001b[0m 5.902   \u001b[0m | \u001b[0m-2.958   \u001b[0m |\n",
      "| \u001b[0m 39      \u001b[0m | \u001b[0m-7.996   \u001b[0m | \u001b[0m 2.778   \u001b[0m | \u001b[0m-0.1317  \u001b[0m |\n",
      "| \u001b[0m 40      \u001b[0m | \u001b[0m-62.41   \u001b[0m | \u001b[0m 1.67    \u001b[0m | \u001b[0m 8.786   \u001b[0m |\n",
      "| \u001b[95m 41      \u001b[0m | \u001b[95m-0.4422  \u001b[0m | \u001b[95m 0.5714  \u001b[0m | \u001b[95m 2.056   \u001b[0m |\n",
      "| \u001b[0m 42      \u001b[0m | \u001b[0m-0.8376  \u001b[0m | \u001b[0m 0.1743  \u001b[0m | \u001b[0m 2.344   \u001b[0m |\n",
      "| \u001b[95m 43      \u001b[0m | \u001b[95m 0.4582  \u001b[0m | \u001b[95m 0.1846  \u001b[0m | \u001b[95m 1.713   \u001b[0m |\n",
      "| \u001b[0m 44      \u001b[0m | \u001b[0m 0.3211  \u001b[0m | \u001b[0m 0.141   \u001b[0m | \u001b[0m 1.812   \u001b[0m |\n",
      "| \u001b[0m 45      \u001b[0m | \u001b[0m 0.4313  \u001b[0m | \u001b[0m 0.6925  \u001b[0m | \u001b[0m 1.299   \u001b[0m |\n",
      "=================================================\n",
      "Bayesian took: 17.412419080734253\n"
     ]
    }
   ],
   "source": [
    "timestamp = time.time()\n",
    "Bopt.maximize(\n",
    "    init_points=40,\n",
    "    n_iter=5,\n",
    ")\n",
    "\n",
    "print(\"Bayesian took: {}\".format(time.time() - timestamp))"
   ]
  },
  {
   "cell_type": "code",
   "execution_count": null,
   "metadata": {},
   "outputs": [
    {
     "name": "stdout",
     "output_type": "stream",
     "text": [
      "sample [-4.1198945 -5.321021 ] target -55.92883822261797\n",
      "sample [-3.6116076 -9.339342 ] target -118.945704525363\n",
      "sample [ 1.1660938 -5.779774 ] target -46.32511286548856\n",
      "sample [ 6.288204   -0.06334114] target -39.6722063559173\n",
      "sample [3.7919884 3.7019396] target -20.67965332870608\n",
      "sample [ 8.633141  -9.7524185] target -189.1456199848326\n",
      "sample [-5.0654984 -3.1104112] target -41.554753517617655\n",
      "sample [-2.8403306  3.309369 ] target -12.40066350249549\n",
      "sample [3.9011192  0.43365288] target -14.53948032648259\n",
      "sample [ 7.2672825 -3.1662607] target -69.17112311194523\n",
      "sample [-2.5912166  4.6591997] target -19.1041458342454\n",
      "sample [7.3564186 7.284109 ] target -92.60692213672519\n",
      "sample [ 0.64249516 -0.34377098] target -1.218520473562421\n",
      "sample [9.037212 4.711323] target -94.44512426367146\n",
      "sample [ 6.6331863 -8.381994 ] target -131.02097708449946\n",
      "sample [-8.231394   3.9392357] target -75.39495054782674\n",
      "sample [2.3920422 0.6307621] target -4.858202322015131\n",
      "sample [ 5.9806204 -9.060054 ] target -135.97250314961457\n",
      "sample [7.9899826 2.9211025] target -66.53045693485547\n",
      "sample [7.8843575  0.85937977] target -61.182866486641615\n",
      "sample [ 7.5338135 -4.2947054] target -83.79225067637981\n",
      "sample [-7.8280616  0.5143547] target -60.514399462341544\n",
      "sample [ 2.3639917 -2.9503036] target -20.19335510730457\n",
      "sample [ 7.9178963 -8.784142 ] target -157.42250703946047\n",
      "sample [-5.489342   6.1760902] target -55.92478810545458\n",
      "sample [6.308502 4.004162] target -47.82218830207421\n",
      "sample [-1.6309566  4.115055 ] target -11.363587771240418\n",
      "sample [4.2651987 9.132156 ] target -83.32388727495072\n",
      "sample [ 6.429451 -7.527981] target -113.06429661794391\n",
      "sample [9.617893 9.030785] target -155.99737137493503\n",
      "sample [ 0.75045395 -3.6508656 ] target -21.193731538445718\n",
      "sample [8.26499  9.824104] target -145.1748741261872\n",
      "sample [-8.785739  5.337656] target -95.00446856736107\n",
      "sample [7.501089 5.763319] target -77.95554567062209\n",
      "sample [-8.916094   7.7721367] target -124.3585644433806\n",
      "sample [-6.874373  7.074959] target -83.16212801843562\n",
      "sample [-7.6149225  8.992741 ] target -120.87094783497832\n",
      "sample [-4.2471385 -7.6663017] target -92.14297106851177\n",
      "sample [-7.4561405 -7.442763 ] target -125.8742759972722\n",
      "sample [9.936573 9.346468] target -167.3990111563071\n",
      "sample [-9.722834 -6.89003 ] target -155.7860658001482\n",
      "sample [4.0882587 2.4448948] target -17.801580508101324\n",
      "sample [4.96078  6.148201] target -50.11331305527074\n",
      "sample [ 3.060608 -7.345512] target -78.0148898747359\n",
      "sample [-6.6209936  6.510929 ] target -73.20789606895505\n",
      "sample [3.2984848 7.7847443] target -55.91275670082541\n",
      "sample [-2.4558854 -6.2648606] target -57.809573122406164\n",
      "sample [-4.4025254 -4.3622565] target -47.13602517818117\n",
      "sample [-7.3285103  5.001192 ] target -68.71660115315535\n",
      "sample [-1.865201  -1.2685204] target -7.6251593590359334\n",
      "Best random [ 0.64249516 -0.34377098] -1.218520473562421\n",
      "sample [0.21036768 1.3704877 ] target 0.8184843109606845\n",
      "sample [0.17691994 0.46578598] target 0.6833147169199947\n",
      "sample [0.61437607 0.9282088 ] target 0.6173880745461702\n",
      "sample [-0.2901392 -0.2308321] target -0.5991284125720995\n",
      "sample [0.07231283 0.8174405 ] target 0.961442886882196\n",
      "sample [-0.06537104  1.6612622 ] target 0.5584589905043771\n",
      "sample [-1.7350788 -0.6234441] target -4.646069164653682\n",
      "sample [-0.11678314  0.41435504] target 0.6433816780776738\n",
      "sample [-1.152255   -0.34948826] target -2.148810278808014\n"
     ]
    }
   ],
   "source": [
    "timestamp = time.time()\n",
    "best, target = Nopt.run(random=50, optimization=10, fitting=10000, verbose=True)\n",
    "\n",
    "print(\"Best\", best, \"target\", target)\n",
    "print(black_box_functionB(*best))\n",
    "print(\"NNopt took:\", time.time() - timestamp)"
   ]
  },
  {
   "cell_type": "code",
   "execution_count": null,
   "metadata": {},
   "outputs": [],
   "source": []
  }
 ],
 "metadata": {
  "kernelspec": {
   "display_name": "Python 3",
   "language": "python",
   "name": "python3"
  },
  "language_info": {
   "codemirror_mode": {
    "name": "ipython",
    "version": 3
   },
   "file_extension": ".py",
   "mimetype": "text/x-python",
   "name": "python",
   "nbconvert_exporter": "python",
   "pygments_lexer": "ipython3",
   "version": "3.6.5"
  }
 },
 "nbformat": 4,
 "nbformat_minor": 2
}
