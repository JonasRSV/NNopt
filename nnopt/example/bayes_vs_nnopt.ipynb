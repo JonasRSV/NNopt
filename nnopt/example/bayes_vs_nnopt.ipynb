{
 "cells": [
  {
   "cell_type": "markdown",
   "metadata": {},
   "source": [
    "Bayesian Optimization & NN Opt\n",
    "---"
   ]
  },
  {
   "cell_type": "code",
   "execution_count": 1,
   "metadata": {},
   "outputs": [],
   "source": [
    "from bayes_opt import BayesianOptimization\n",
    "from nnopt.nnopt import Optimizer\n",
    "import time\n",
    "import numpy as np\n",
    "import gym\n"
   ]
  },
  {
   "cell_type": "code",
   "execution_count": 2,
   "metadata": {},
   "outputs": [
    {
     "name": "stdout",
     "output_type": "stream",
     "text": [
      "\u001b[33mWARN: gym.spaces.Box autodetected dtype as <class 'numpy.float32'>. Please provide explicit dtype.\u001b[0m\n",
      "\u001b[33mWARN: gym.spaces.Box autodetected dtype as <class 'numpy.float32'>. Please provide explicit dtype.\u001b[0m\n",
      "Box(1,)\n",
      "Box(2,)\n"
     ]
    },
    {
     "name": "stderr",
     "output_type": "stream",
     "text": [
      "/usr/local/lib/python3.6/site-packages/gym/envs/registration.py:14: DeprecationWarning: Parameters to load are deprecated.  Call .resolve and .require separately.\n",
      "  result = entry_point.load(False)\n"
     ]
    }
   ],
   "source": [
    "ll = gym.make(\"MountainCarContinuous-v0\")\n",
    "print(ll.action_space)\n",
    "print(ll.observation_space)\n",
    "\n",
    "def black_box_function(a, b):\n",
    "    \"\"\"Function with unknown internals we wish to maximize.\n",
    "\n",
    "    This is just serving as an example, for all intents and\n",
    "    purposes think of the internals of this function, i.e.: the process\n",
    "    which generates its output values, as unknown.\n",
    "    \"\"\"\n",
    "    transform = np.array([[a, b]])\n",
    "    \n",
    "    sc = 0\n",
    "    for _ in range(4):\n",
    "        s = ll.reset()\n",
    "        done = False\n",
    "        while not done:\n",
    "            #ll.render()\n",
    "            s, r, done, _ = ll.step(transform @ s)\n",
    "            sc += r\n",
    "\n",
    "    return sc / 4\n",
    "\n",
    "#print(black_box_function(-221.59328, 28.267517))"
   ]
  },
  {
   "cell_type": "code",
   "execution_count": 3,
   "metadata": {},
   "outputs": [],
   "source": [
    "Nopt = Optimizer(black_box_function, N=2, surrogate_hidden_layer=1000, model_hidden_layer=400, memory_hidden_layer=400,\n",
    "                 Rn=[(-10, 10), (-10, 10)]) #(-10, 10), (-10, 10), (-10, 10), (-10, 10)])\n",
    "\n",
    "Bopt = BayesianOptimization(\n",
    "    f=black_box_function,\n",
    "    pbounds={'a': (-10, 10), 'b': (-10, 10)#, 'c': (-10, 10), \n",
    "             #'d': (-10, 10), 'e': (-10, 10), 'f': (-10, 10)},\n",
    "            },\n",
    "    random_state=np.random.randint(10),\n",
    ")"
   ]
  },
  {
   "cell_type": "markdown",
   "metadata": {},
   "source": [
    "Bayesian\n",
    "---"
   ]
  },
  {
   "cell_type": "code",
   "execution_count": 4,
   "metadata": {},
   "outputs": [
    {
     "name": "stdout",
     "output_type": "stream",
     "text": [
      "|   iter    |  target   |     a     |     b     |\n",
      "-------------------------------------------------\n",
      "| \u001b[0m 1       \u001b[0m | \u001b[0m-65.47   \u001b[0m | \u001b[0m 1.016   \u001b[0m | \u001b[0m 4.163   \u001b[0m |\n",
      "| \u001b[0m 2       \u001b[0m | \u001b[0m-193.9   \u001b[0m | \u001b[0m-4.182   \u001b[0m | \u001b[0m 0.2166  \u001b[0m |\n",
      "| \u001b[0m 3       \u001b[0m | \u001b[0m-4.569e+0\u001b[0m | \u001b[0m 7.859   \u001b[0m | \u001b[0m 7.926   \u001b[0m |\n",
      "| \u001b[0m 4       \u001b[0m | \u001b[0m-567.0   \u001b[0m | \u001b[0m-7.488   \u001b[0m | \u001b[0m-5.855   \u001b[0m |\n",
      "| \u001b[0m 5       \u001b[0m | \u001b[0m-901.5   \u001b[0m | \u001b[0m-8.971   \u001b[0m | \u001b[0m-1.184   \u001b[0m |\n",
      "| \u001b[0m 6       \u001b[0m | \u001b[0m-1.016e+0\u001b[0m | \u001b[0m-9.402   \u001b[0m | \u001b[0m-0.8633  \u001b[0m |\n",
      "| \u001b[0m 7       \u001b[0m | \u001b[0m-631.1   \u001b[0m | \u001b[0m 2.983   \u001b[0m | \u001b[0m-4.43    \u001b[0m |\n",
      "| \u001b[0m 8       \u001b[0m | \u001b[0m-758.0   \u001b[0m | \u001b[0m 3.525   \u001b[0m | \u001b[0m 1.817   \u001b[0m |\n",
      "| \u001b[0m 9       \u001b[0m | \u001b[0m-979.2   \u001b[0m | \u001b[0m-9.52    \u001b[0m | \u001b[0m 1.177   \u001b[0m |\n",
      "| \u001b[0m 10      \u001b[0m | \u001b[0m-252.8   \u001b[0m | \u001b[0m-4.815   \u001b[0m | \u001b[0m-1.698   \u001b[0m |\n",
      "| \u001b[0m 11      \u001b[0m | \u001b[0m-333.7   \u001b[0m | \u001b[0m-4.329   \u001b[0m | \u001b[0m 3.863   \u001b[0m |\n",
      "| \u001b[95m 12      \u001b[0m | \u001b[95m-25.2    \u001b[0m | \u001b[95m-1.191   \u001b[0m | \u001b[95m-6.863   \u001b[0m |\n",
      "| \u001b[0m 13      \u001b[0m | \u001b[0m-49.77   \u001b[0m | \u001b[0m 0.893   \u001b[0m | \u001b[0m 5.606   \u001b[0m |\n",
      "| \u001b[0m 14      \u001b[0m | \u001b[0m-157.3   \u001b[0m | \u001b[0m-3.873   \u001b[0m | \u001b[0m-5.561   \u001b[0m |\n",
      "| \u001b[95m 15      \u001b[0m | \u001b[95m 55.44   \u001b[0m | \u001b[95m-2.241   \u001b[0m | \u001b[95m 8.728   \u001b[0m |\n",
      "| \u001b[0m 16      \u001b[0m | \u001b[0m-5.484e+0\u001b[0m | \u001b[0m 9.52    \u001b[0m | \u001b[0m 3.448   \u001b[0m |\n",
      "| \u001b[0m 17      \u001b[0m | \u001b[0m-4.546e+0\u001b[0m | \u001b[0m 8.057   \u001b[0m | \u001b[0m 6.915   \u001b[0m |\n",
      "| \u001b[0m 18      \u001b[0m | \u001b[0m-71.93   \u001b[0m | \u001b[0m-2.44    \u001b[0m | \u001b[0m-8.156   \u001b[0m |\n",
      "| \u001b[0m 19      \u001b[0m | \u001b[0m-611.2   \u001b[0m | \u001b[0m 3.068   \u001b[0m | \u001b[0m 1.157   \u001b[0m |\n",
      "| \u001b[0m 20      \u001b[0m | \u001b[0m-87.99   \u001b[0m | \u001b[0m-2.769   \u001b[0m | \u001b[0m-5.499   \u001b[0m |\n",
      "| \u001b[0m 21      \u001b[0m | \u001b[0m-52.08   \u001b[0m | \u001b[0m-1.87    \u001b[0m | \u001b[0m-0.6212  \u001b[0m |\n",
      "| \u001b[0m 22      \u001b[0m | \u001b[0m-237.5   \u001b[0m | \u001b[0m-4.615   \u001b[0m | \u001b[0m-4.164   \u001b[0m |\n",
      "| \u001b[95m 23      \u001b[0m | \u001b[95m 92.03   \u001b[0m | \u001b[95m-0.8463  \u001b[0m | \u001b[95m 7.211   \u001b[0m |\n",
      "| \u001b[0m 24      \u001b[0m | \u001b[0m-185.4   \u001b[0m | \u001b[0m 1.725   \u001b[0m | \u001b[0m-4.33    \u001b[0m |\n",
      "| \u001b[0m 25      \u001b[0m | \u001b[0m-227.0   \u001b[0m | \u001b[0m-4.44    \u001b[0m | \u001b[0m-0.9076  \u001b[0m |\n",
      "| \u001b[0m 26      \u001b[0m | \u001b[0m-373.2   \u001b[0m | \u001b[0m-5.892   \u001b[0m | \u001b[0m-5.972   \u001b[0m |\n",
      "| \u001b[0m 27      \u001b[0m | \u001b[0m-2.424   \u001b[0m | \u001b[0m 0.2807  \u001b[0m | \u001b[0m-8.255   \u001b[0m |\n",
      "| \u001b[0m 28      \u001b[0m | \u001b[0m-2.605   \u001b[0m | \u001b[0m-0.3283  \u001b[0m | \u001b[0m-2.756   \u001b[0m |\n",
      "| \u001b[0m 29      \u001b[0m | \u001b[0m-1.09e+03\u001b[0m | \u001b[0m 4.154   \u001b[0m | \u001b[0m 4.935   \u001b[0m |\n",
      "| \u001b[0m 30      \u001b[0m | \u001b[0m-986.6   \u001b[0m | \u001b[0m 3.822   \u001b[0m | \u001b[0m 3.784   \u001b[0m |\n",
      "| \u001b[0m 31      \u001b[0m | \u001b[0m-35.7    \u001b[0m | \u001b[0m-2.528   \u001b[0m | \u001b[0m 3.363   \u001b[0m |\n",
      "| \u001b[0m 32      \u001b[0m | \u001b[0m-148.0   \u001b[0m | \u001b[0m-3.203   \u001b[0m | \u001b[0m 1.456   \u001b[0m |\n",
      "| \u001b[0m 33      \u001b[0m | \u001b[0m-133.1   \u001b[0m | \u001b[0m-3.484   \u001b[0m | \u001b[0m-1.097   \u001b[0m |\n",
      "| \u001b[0m 34      \u001b[0m | \u001b[0m-815.8   \u001b[0m | \u001b[0m-8.769   \u001b[0m | \u001b[0m-5.146   \u001b[0m |\n",
      "| \u001b[0m 35      \u001b[0m | \u001b[0m-5.556e+0\u001b[0m | \u001b[0m 9.432   \u001b[0m | \u001b[0m-5.388   \u001b[0m |\n",
      "| \u001b[0m 36      \u001b[0m | \u001b[0m-987.4   \u001b[0m | \u001b[0m 3.83    \u001b[0m | \u001b[0m 3.01    \u001b[0m |\n",
      "| \u001b[0m 37      \u001b[0m | \u001b[0m-1.486e+0\u001b[0m | \u001b[0m 4.479   \u001b[0m | \u001b[0m-0.4982  \u001b[0m |\n",
      "| \u001b[0m 38      \u001b[0m | \u001b[0m-229.9   \u001b[0m | \u001b[0m 1.933   \u001b[0m | \u001b[0m-8.661   \u001b[0m |\n",
      "| \u001b[0m 39      \u001b[0m | \u001b[0m-800.7   \u001b[0m | \u001b[0m-8.549   \u001b[0m | \u001b[0m-6.02    \u001b[0m |\n",
      "| \u001b[0m 40      \u001b[0m | \u001b[0m-510.0   \u001b[0m | \u001b[0m-6.963   \u001b[0m | \u001b[0m-7.998   \u001b[0m |\n",
      "| \u001b[0m 41      \u001b[0m | \u001b[0m 77.85   \u001b[0m | \u001b[0m-1.556   \u001b[0m | \u001b[0m 7.13    \u001b[0m |\n",
      "| \u001b[0m 42      \u001b[0m | \u001b[0m 85.17   \u001b[0m | \u001b[0m-1.258   \u001b[0m | \u001b[0m 7.758   \u001b[0m |\n",
      "| \u001b[0m 43      \u001b[0m | \u001b[0m 91.28   \u001b[0m | \u001b[0m-0.8942  \u001b[0m | \u001b[0m 6.782   \u001b[0m |\n",
      "| \u001b[0m 44      \u001b[0m | \u001b[0m 62.77   \u001b[0m | \u001b[0m-0.9561  \u001b[0m | \u001b[0m 7.101   \u001b[0m |\n",
      "| \u001b[95m 45      \u001b[0m | \u001b[95m 98.51   \u001b[0m | \u001b[95m 0.1374  \u001b[0m | \u001b[95m 7.648   \u001b[0m |\n",
      "=================================================\n",
      "Bayesian took: 17.374753952026367\n"
     ]
    }
   ],
   "source": [
    "timestamp = time.time()\n",
    "Bopt.maximize(\n",
    "    init_points=40,\n",
    "    n_iter=5,\n",
    ")\n",
    "\n",
    "print(\"Bayesian took: {}\".format(time.time() - timestamp))"
   ]
  },
  {
   "cell_type": "code",
   "execution_count": 5,
   "metadata": {},
   "outputs": [
    {
     "name": "stdout",
     "output_type": "stream",
     "text": [
      "sample [9.420309 9.439905] target -5756.810204662098\n",
      "sample [ 8.190327  -1.7384768] target -4372.012498186571\n",
      "sample [-2.6557112  7.5721188] target 23.539262239088373\n",
      "sample [ 0.7985449 -6.5833545] target -24.95415590581313\n",
      "sample [-1.3427467 -2.7076244] target -30.618542961439726\n",
      "sample [1.4698715 2.2531052] target -149.11301479145774\n",
      "sample [-3.414216   5.6880207] target -84.46931848403598\n",
      "sample [ 3.4243727 -9.761043 ] target -783.4537995962372\n",
      "sample [6.514387 2.356079] target -3234.9076755793003\n",
      "sample [ 2.1313715 -6.079526 ] target -286.5034334495592\n",
      "sample [-1.3669634 -4.0932703] target -31.323286429441062\n",
      "sample [-9.864459  7.062504] target -1277.104218929992\n",
      "sample [ 3.6365585 -2.3139596] target -1006.6134985491401\n",
      "sample [-7.604556  -0.8005123] target -643.3178639704153\n",
      "sample [-6.6045427  7.584587 ] target -662.2299344935817\n",
      "sample [3.3784084 1.067522 ] target -733.9708833150924\n",
      "sample [1.4477873 7.0994015] target -147.91906546171876\n",
      "sample [9.257956 9.477764] target -5845.253297637518\n",
      "sample [-0.6955223  5.4389076] target 39.98060201475484\n",
      "sample [-5.5575204  8.791729 ] target -328.26969283776555\n",
      "sample [-0.95708656 -6.830547  ] target -17.61711115285059\n",
      "sample [-6.585071  4.108219] target -592.9923640567225\n",
      "sample [-8.221825  4.639077] target -948.1708990551745\n",
      "sample [-1.2465906  8.935835 ] target 83.73905095205173\n",
      "sample [5.614031   0.20657349] target -2401.7725598262673\n",
      "sample [-1.5309029  4.048088 ] target 39.96807296804822\n",
      "sample [ 2.6645565 -6.5629244] target -455.61204464468784\n",
      "sample [-2.7142906 -2.5117564] target -85.30347586374914\n",
      "sample [-5.830333  -5.4874587] target -368.8918245110395\n",
      "sample [1.5179586 6.7183323] target -159.90449820161348\n",
      "sample [-2.3640013 -1.8892841] target -70.6198563223334\n",
      "sample [-5.367646  -2.2833443] target -337.9638279793538\n",
      "sample [-2.972467 -6.52653 ] target -96.75386230708634\n",
      "sample [6.0516167 0.7770586] target -2586.5676727516443\n",
      "sample [-5.7405305 -5.606253 ] target -343.83994540955104\n",
      "sample [ 1.7083244 -4.357009 ] target -181.01367402604203\n",
      "sample [ 9.066212  -1.0054731] target -5453.901190347226\n",
      "sample [-5.717311 -8.281012] target -341.541484009804\n",
      "sample [3.465104 9.669121] target -739.9655887850641\n",
      "sample [-2.9424262   0.92520905] target -118.625173212335\n",
      "sample [ 5.064108  -4.3953347] target -1841.9331414063824\n",
      "sample [-6.896441 -8.082838] target -482.69230333673363\n",
      "sample [6.1930065 4.3021774] target -2607.1123311546207\n",
      "sample [-9.360418  -5.6905627] target -930.2246532396754\n",
      "sample [5.728421  0.9505253] target -2234.9444947502384\n",
      "sample [2.6827507 8.632565 ] target -476.21163582890944\n",
      "sample [-1.108839 -8.851008] target -22.457035942706376\n",
      "sample [-8.060549   1.7309074] target -720.2093270340796\n",
      "sample [-3.9786148  8.109112 ] target -133.73288574767972\n",
      "sample [2.5280857  0.95788956] target -472.9214001456548\n",
      "Best random [-1.2465906  8.935835 ] 83.73905095205173\n",
      "sample [-8.03775   -2.4165316] target -659.3634068035609\n",
      "sample [-1.8630705  9.702015 ] target 72.78860200356856\n",
      "sample [-2.964427  8.334692] target 19.953508991926967\n",
      "sample [-3.6195326 17.506626 ] target 4.972228365285382\n",
      "sample [-5.262101 24.791416] target -118.79224355618092\n",
      "sample [-1.5319599  4.149931 ] target 12.364376782603347\n",
      "sample [-1.535451   4.1507087] target 40.282064878712134\n",
      "sample [-1.5365088  4.149542 ] target 67.90236389346578\n",
      "sample [-1.5350938  4.146333 ] target 44.51860611200533\n",
      "sample [-0.7021402  4.7107954] target 90.88907122646316\n",
      "Best [-0.7021402  4.7107954] target 90.88907122646316\n",
      "64.51121897138145\n",
      "NNopt took: 86.826740026474\n"
     ]
    }
   ],
   "source": [
    "timestamp = time.time()\n",
    "best, target = Nopt.run(random=50, optimization=10, fitting=10000, verbose=True)\n",
    "\n",
    "print(\"Best\", best, \"target\", target)\n",
    "print(black_box_function(*best))\n",
    "print(\"NNopt took:\", time.time() - timestamp)"
   ]
  },
  {
   "cell_type": "code",
   "execution_count": null,
   "metadata": {},
   "outputs": [],
   "source": []
  }
 ],
 "metadata": {
  "kernelspec": {
   "display_name": "Python 3",
   "language": "python",
   "name": "python3"
  },
  "language_info": {
   "codemirror_mode": {
    "name": "ipython",
    "version": 3
   },
   "file_extension": ".py",
   "mimetype": "text/x-python",
   "name": "python",
   "nbconvert_exporter": "python",
   "pygments_lexer": "ipython3",
   "version": "3.6.5"
  }
 },
 "nbformat": 4,
 "nbformat_minor": 2
}
