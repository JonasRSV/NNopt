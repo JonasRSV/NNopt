{
 "cells": [
  {
   "cell_type": "markdown",
   "metadata": {},
   "source": [
    "Bayesian Optimization & NN Opt\n",
    "---"
   ]
  },
  {
   "cell_type": "code",
   "execution_count": 1,
   "metadata": {},
   "outputs": [],
   "source": [
    "from bayes_opt import BayesianOptimization\n",
    "from nnopt.nnopt import Optimizer\n",
    "import time\n",
    "import numpy as np\n"
   ]
  },
  {
   "cell_type": "code",
   "execution_count": 2,
   "metadata": {},
   "outputs": [],
   "source": [
    "def black_box_function(x, y):\n",
    "    \"\"\"Function with unknown internals we wish to maximize.\n",
    "\n",
    "    This is just serving as an example, for all intents and\n",
    "    purposes think of the internals of this function, i.e.: the process\n",
    "    which generates its output values, as unknown.\n",
    "    \"\"\"\n",
    "    return (-x ** 2 - (y - 1) ** 2 + 1)"
   ]
  },
  {
   "cell_type": "code",
   "execution_count": 3,
   "metadata": {},
   "outputs": [],
   "source": [
    "Nopt = Optimizer(black_box_function, N=2, surrogate_hidden_layer=40, Rn=[(-10, 10), (-10, 10)])\n",
    "\n",
    "Bopt = BayesianOptimization(\n",
    "    f=black_box_function,\n",
    "    pbounds={'x': (-10, 10), 'y': (-10, 10)},\n",
    "    random_state=np.random.randint(10),\n",
    ")"
   ]
  },
  {
   "cell_type": "markdown",
   "metadata": {},
   "source": [
    "Bayesian\n",
    "---"
   ]
  },
  {
   "cell_type": "code",
   "execution_count": null,
   "metadata": {},
   "outputs": [
    {
     "name": "stdout",
     "output_type": "stream",
     "text": [
      "|   iter    |  target   |     x     |     y     |\n",
      "-------------------------------------------------\n",
      "| \u001b[0m 27      \u001b[0m | \u001b[0m-35.3    \u001b[0m | \u001b[0m 1.999   \u001b[0m | \u001b[0m-4.684   \u001b[0m |\n",
      "| \u001b[0m 28      \u001b[0m | \u001b[0m-52.69   \u001b[0m | \u001b[0m-4.306   \u001b[0m | \u001b[0m-4.928   \u001b[0m |\n",
      "| \u001b[0m 29      \u001b[0m | \u001b[0m-76.77   \u001b[0m | \u001b[0m-3.449   \u001b[0m | \u001b[0m-7.117   \u001b[0m |\n",
      "| \u001b[0m 30      \u001b[0m | \u001b[0m-112.3   \u001b[0m | \u001b[0m-6.688   \u001b[0m | \u001b[0m 9.279   \u001b[0m |\n",
      "| \u001b[0m 31      \u001b[0m | \u001b[0m-136.0   \u001b[0m | \u001b[0m 9.205   \u001b[0m | \u001b[0m-6.232   \u001b[0m |\n",
      "| \u001b[0m 32      \u001b[0m | \u001b[0m-137.2   \u001b[0m | \u001b[0m-9.514   \u001b[0m | \u001b[0m-5.909   \u001b[0m |\n",
      "| \u001b[0m 33      \u001b[0m | \u001b[0m-36.05   \u001b[0m | \u001b[0m 3.997   \u001b[0m | \u001b[0m 5.59    \u001b[0m |\n",
      "| \u001b[0m 34      \u001b[0m | \u001b[0m-90.34   \u001b[0m | \u001b[0m-9.541   \u001b[0m | \u001b[0m 1.553   \u001b[0m |\n",
      "| \u001b[0m 35      \u001b[0m | \u001b[0m-98.82   \u001b[0m | \u001b[0m-9.967   \u001b[0m | \u001b[0m 0.3095  \u001b[0m |\n",
      "| \u001b[0m 36      \u001b[0m | \u001b[0m-82.72   \u001b[0m | \u001b[0m 2.796   \u001b[0m | \u001b[0m 9.712   \u001b[0m |\n",
      "| \u001b[0m 37      \u001b[0m | \u001b[0m 0.9997  \u001b[0m | \u001b[0m 0.001282\u001b[0m | \u001b[0m 1.019   \u001b[0m |\n"
     ]
    }
   ],
   "source": [
    "timestamp = time.time()\n",
    "Bopt.maximize(\n",
    "    init_points=10,\n",
    "    n_iter=5,\n",
    ")\n",
    "\n",
    "print(\"Bayesian took: {}\".format(time.time() - timestamp))"
   ]
  },
  {
   "cell_type": "code",
   "execution_count": 6,
   "metadata": {},
   "outputs": [
    {
     "name": "stdout",
     "output_type": "stream",
     "text": [
      "sample [-1.861412 -4.190743] target -29.40866738925274\n",
      "sample [-0.8013773  1.8339176] target -0.3376241645355549\n",
      "sample [-8.535931   5.4662085] target -91.80912977052594\n",
      "sample [-4.640162   5.0772905] target -37.155401410410605\n",
      "sample [2.521288  2.1486616] target -6.676316268157279\n",
      "sample [-7.6159525  4.364908 ] target -68.32533967489599\n",
      "sample [-9.0768795  2.8531647] target -84.82396078660167\n",
      "sample [-0.6323433  8.953667 ] target -62.66067180731625\n",
      "sample [-2.222135  -3.7376904] target -26.383595044210324\n",
      "sample [-3.8783932 -2.4995136] target -26.28852922531223\n",
      "sample [-6.211722 -4.234607] target -64.9866016717192\n",
      "sample [-8.9508705  9.300247 ] target -148.01218641154992\n",
      "sample [6.479063  3.2598324] target -46.08510019494133\n",
      "sample [-0.7908993  4.903248 ] target -14.86086531372348\n",
      "sample [-6.5862036  3.0673428] target -46.6519836129055\n",
      "sample [-4.2310715 -1.9805193] target -25.785461068903714\n",
      "sample [ 2.7270432 -5.7325077] target -51.763424359236524\n",
      "sample [9.545691 4.931617] target -105.57781834809157\n",
      "sample [-3.6582756 -7.1071124] target -78.10825198746556\n",
      "sample [-2.9521942  2.0433044] target -8.803934837924317\n",
      "sample [6.7152596 6.249733 ] target -71.65440711956762\n",
      "sample [6.211321 2.299676] target -39.26966459081905\n",
      "sample [9.238262  4.3266697] target -95.41221928828236\n",
      "sample [ 4.1225643 -1.0249634] target -20.09601322378512\n",
      "sample [-9.753359  4.89305 ] target -109.28384849153099\n",
      "sample [9.66135   6.8956375] target -127.10023033323523\n",
      "sample [ 1.9507141 -2.7380848] target -16.778563464471517\n",
      "sample [5.6434107 7.3584747] target -71.27828504379522\n",
      "sample [7.8520985 4.734335 ] target -74.60070779003581\n",
      "sample [-3.1443405  3.8468094] target -16.99120096222032\n",
      "sample [-6.2980676 -5.1410604] target -76.37827736382178\n",
      "sample [ 9.321018 -8.25789 ] target -171.58990321790134\n",
      "sample [7.481884  1.3401031] target -55.094258381883265\n",
      "sample [4.4778233 4.676032 ] target -32.564112877725165\n",
      "sample [ 5.629101 -7.062726] target -95.69432669830803\n",
      "sample [8.132898 5.920685] target -89.357174300505\n",
      "sample [ 4.0301895 -7.195463 ] target -82.40804426366594\n",
      "sample [-7.2833633 -1.1876793] target -56.83332225501363\n",
      "sample [-9.885755  -2.7508163] target -110.79676697564082\n",
      "sample [9.4749565 2.5203915] target -91.08639111735465\n",
      "sample [-4.3569136 -5.027163 ] target -54.30939000146395\n",
      "sample [3.159957  3.4092522] target -14.78982381550395\n",
      "sample [-8.815147   1.3199406] target -76.80918564842796\n",
      "sample [5.5068035 6.847374 ] target -63.516667182269885\n",
      "sample [-9.4544935 -7.001314 ] target -152.40847610807123\n",
      "sample [-9.388884    0.35975266] target -87.56105174242475\n",
      "sample [2.345953 9.892677] target -83.58320510908743\n",
      "sample [-6.5742826 -5.171194 ] target -80.30482864215173\n",
      "sample [-3.5491896 -0.4314022] target -13.645658863065364\n",
      "sample [-7.0332146 -3.9649725] target -73.11705906124644\n",
      "Best random [-0.8013773  1.8339176] -0.3376241645355549\n",
      "sample [-6.2945943 -2.404838 ] target -50.21483963516994\n",
      "sample [-5.3178973  6.149737 ] target -53.79982185003837\n",
      "sample [-7.1432095 -2.9489238] target -65.61944073752198\n",
      "sample [-5.1615796  5.870773 ] target -49.366332104360936\n",
      "sample [-5.092047  5.804344] target -48.010667808217704\n",
      "sample [0.04552797 1.1013125 ] target 0.987662977751415\n",
      "sample [-4.5351233 -0.8564756] target -23.01384540614373\n",
      "sample [-4.9258857 -1.535142 ] target -29.691294386916752\n",
      "sample [-1.3574866  1.3997203] target -1.0025462116612118\n",
      "sample [0.03813116 0.950746  ] target 0.9961200584783367\n",
      "sample [0.03966258 0.91107744] target 0.9905196582537239\n",
      "sample [-1.3707186  1.2067399] target -0.9216108631900539\n",
      "sample [-1.2885087  1.1090664] target -0.6721500229502482\n",
      "sample [-1.3792428  1.2254856] target -0.9531543794276587\n",
      "sample [-1.5639024  1.3247762] target -1.551270210484745\n",
      "sample [0.25760186 1.046584  ] target 0.9314712131753993\n",
      "sample [0.3766378 1.1327448] target 0.8405227986454014\n",
      "sample [0.8599679 1.4747739] target 0.03504499188093391\n",
      "sample [0.7035521 1.5001171] target 0.25489732753014493\n",
      "sample [0.5822954 1.3030926] target 0.569066922908732\n",
      "sample [0.56724894 1.3117611 ] target 0.5810336306106336\n",
      "sample [0.12107043 1.049996  ] target 0.9828423491996128\n",
      "sample [0.43985525 1.2993498 ] target 0.7169170673487377\n",
      "sample [0.33142585 1.2394023 ] target 0.832843450404507\n",
      "sample [0.27380142 1.1969532 ] target 0.88624223040103\n",
      "sample [-0.01653584  0.9683113 ] target 0.9987223930639123\n",
      "sample [-0.0123478   0.95688295] target 0.9979884522704459\n",
      "sample [0.18770632 1.1024357 ] target 0.954273262594362\n",
      "sample [-0.04101035  0.9307049 ] target 0.9935163391569359\n",
      "sample [-0.08241025  0.9021323 ] target 0.9836304580612709\n",
      "sample [-0.03848169  0.9311804 ] target 0.9937830246052601\n",
      "sample [-0.08340249  0.90541935] target 0.984098524893747\n",
      "sample [-0.08024722  0.91118026] target 0.9856714377310576\n",
      "sample [-0.07785787  0.91540647] target 0.9867820864903256\n",
      "sample [-0.09145783  1.4154716 ] target 0.8190188535176188\n",
      "sample [-0.04995148  0.90987813] target 0.9893828987894387\n",
      "sample [0.01555289 0.94995886] target 0.9972539921083668\n",
      "sample [-0.08994789  1.4200448 ] target 0.8154717606481592\n",
      "sample [-0.0597612  0.9393789] target 0.9927536832848334\n",
      "sample [-0.16887856  1.0001745 ] target 0.9714800031024424\n",
      "Best [-0.01653584  0.9683113 ] target 0.9987223930639123\n",
      "0.9987223930639123\n",
      "NNopt took: 42.37704586982727\n"
     ]
    }
   ],
   "source": [
    "timestamp = time.time()\n",
    "best, target = Nopt.run(random=50, optimization=40, fitting=1000, verbose=True)\n",
    "\n",
    "print(\"Best\", best, \"target\", target)\n",
    "print(black_box_function(*best))\n",
    "print(\"NNopt took:\", time.time() - timestamp)"
   ]
  },
  {
   "cell_type": "code",
   "execution_count": null,
   "metadata": {},
   "outputs": [],
   "source": []
  }
 ],
 "metadata": {
  "kernelspec": {
   "display_name": "Python 3",
   "language": "python",
   "name": "python3"
  },
  "language_info": {
   "codemirror_mode": {
    "name": "ipython",
    "version": 3
   },
   "file_extension": ".py",
   "mimetype": "text/x-python",
   "name": "python",
   "nbconvert_exporter": "python",
   "pygments_lexer": "ipython3",
   "version": "3.6.5"
  }
 },
 "nbformat": 4,
 "nbformat_minor": 2
}
