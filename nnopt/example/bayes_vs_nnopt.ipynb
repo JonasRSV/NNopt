{
 "cells": [
  {
   "cell_type": "markdown",
   "metadata": {},
   "source": [
    "Bayesian Optimization & NN Opt\n",
    "---"
   ]
  },
  {
   "cell_type": "code",
   "execution_count": 1,
   "metadata": {},
   "outputs": [],
   "source": [
    "from bayes_opt import BayesianOptimization\n",
    "from nnopt.nnopt import Optimizer\n",
    "import time\n",
    "import numpy as np\n",
    "import gym\n"
   ]
  },
  {
   "cell_type": "code",
   "execution_count": 2,
   "metadata": {},
   "outputs": [
    {
     "name": "stdout",
     "output_type": "stream",
     "text": [
      "\u001b[33mWARN: gym.spaces.Box autodetected dtype as <class 'numpy.float32'>. Please provide explicit dtype.\u001b[0m\n",
      "\u001b[33mWARN: gym.spaces.Box autodetected dtype as <class 'numpy.float32'>. Please provide explicit dtype.\u001b[0m\n",
      "Box(1,)\n",
      "Box(2,)\n"
     ]
    },
    {
     "name": "stderr",
     "output_type": "stream",
     "text": [
      "/usr/local/lib/python3.6/site-packages/gym/envs/registration.py:14: DeprecationWarning: Parameters to load are deprecated.  Call .resolve and .require separately.\n",
      "  result = entry_point.load(False)\n"
     ]
    }
   ],
   "source": [
    "ll = gym.make(\"MountainCarContinuous-v0\")\n",
    "print(ll.action_space)\n",
    "print(ll.observation_space)\n",
    "\n",
    "def black_box_functionA(a, b):\n",
    "    \"\"\"Function with unknown internals we wish to maximize.\n",
    "\n",
    "    This is just serving as an example, for all intents and\n",
    "    purposes think of the internals of this function, i.e.: the process\n",
    "    which generates its output values, as unknown.\n",
    "    \"\"\"\n",
    "    transform = np.array([[a, b]])\n",
    "    \n",
    "    sc = 0\n",
    "    for _ in range(4):\n",
    "        s = ll.reset()\n",
    "        done = False\n",
    "        while not done:\n",
    "            #ll.render()\n",
    "            s, r, done, _ = ll.step(transform @ s)\n",
    "            sc += r\n",
    "\n",
    "    return sc / 4\n",
    "\n",
    "def black_box_functionB(a, b):\n",
    "    \"\"\"Function with unknown internals we wish to maximize.\n",
    "\n",
    "    This is just serving as an example, for all intents and\n",
    "    purposes think of the internals of this function, i.e.: the process\n",
    "    which generates its output values, as unknown.\n",
    "    \"\"\"\n",
    "    return -a ** 2 - (b - 1) ** 2 + 1\n",
    "\n",
    "#print(black_box_function(-221.59328, 28.267517))"
   ]
  },
  {
   "cell_type": "code",
   "execution_count": 3,
   "metadata": {},
   "outputs": [],
   "source": [
    "Nopt = Optimizer(black_box_functionB, N=2, surrogate_hidden_layer=1000, model_hidden_layer=400, memory_hidden_layer=400,\n",
    "                 Rn=[(-10, 10), (-10, 10)]) #(-10, 10), (-10, 10), (-10, 10), (-10, 10)])\n",
    "\n",
    "Bopt = BayesianOptimization(\n",
    "    f=black_box_functionB,\n",
    "    pbounds={'a': (-10, 10), 'b': (-10, 10)#, 'c': (-10, 10), \n",
    "             #'d': (-10, 10), 'e': (-10, 10), 'f': (-10, 10)},\n",
    "            },\n",
    "    random_state=np.random.randint(10),\n",
    ")"
   ]
  },
  {
   "cell_type": "markdown",
   "metadata": {},
   "source": [
    "Bayesian\n",
    "---"
   ]
  },
  {
   "cell_type": "code",
   "execution_count": 4,
   "metadata": {},
   "outputs": [
    {
     "name": "stdout",
     "output_type": "stream",
     "text": [
      "|   iter    |  target   |     a     |     b     |\n",
      "-------------------------------------------------\n",
      "| \u001b[0m 1       \u001b[0m | \u001b[0m-95.82   \u001b[0m | \u001b[0m-9.793   \u001b[0m | \u001b[0m 0.03749 \u001b[0m |\n",
      "| \u001b[95m 2       \u001b[0m | \u001b[95m-68.29   \u001b[0m | \u001b[95m-0.08453 \u001b[0m | \u001b[95m-7.323   \u001b[0m |\n",
      "| \u001b[0m 3       \u001b[0m | \u001b[0m-94.18   \u001b[0m | \u001b[0m-7.158   \u001b[0m | \u001b[0m-5.629   \u001b[0m |\n",
      "| \u001b[95m 4       \u001b[0m | \u001b[95m-38.11   \u001b[0m | \u001b[95m-1.63    \u001b[0m | \u001b[95m-5.038   \u001b[0m |\n",
      "| \u001b[0m 5       \u001b[0m | \u001b[0m-84.93   \u001b[0m | \u001b[0m-8.319   \u001b[0m | \u001b[0m-3.09    \u001b[0m |\n",
      "| \u001b[0m 6       \u001b[0m | \u001b[0m-86.6    \u001b[0m | \u001b[0m-6.664   \u001b[0m | \u001b[0m 7.571   \u001b[0m |\n",
      "| \u001b[0m 7       \u001b[0m | \u001b[0m-184.9   \u001b[0m | \u001b[0m 9.019   \u001b[0m | \u001b[0m-9.225   \u001b[0m |\n",
      "| \u001b[95m 8       \u001b[0m | \u001b[95m-15.06   \u001b[0m | \u001b[95m 3.982   \u001b[0m | \u001b[95m 1.455   \u001b[0m |\n",
      "| \u001b[0m 9       \u001b[0m | \u001b[0m-67.83   \u001b[0m | \u001b[0m 7.96    \u001b[0m | \u001b[0m 3.338   \u001b[0m |\n",
      "| \u001b[95m 10      \u001b[0m | \u001b[95m-9.209   \u001b[0m | \u001b[95m 0.9568  \u001b[0m | \u001b[95m 4.049   \u001b[0m |\n",
      "| \u001b[0m 11      \u001b[0m | \u001b[0m-12.5    \u001b[0m | \u001b[0m-2.27    \u001b[0m | \u001b[0m 3.889   \u001b[0m |\n",
      "| \u001b[0m 12      \u001b[0m | \u001b[0m-44.06   \u001b[0m | \u001b[0m 6.497   \u001b[0m | \u001b[0m-0.6866  \u001b[0m |\n",
      "| \u001b[0m 13      \u001b[0m | \u001b[0m-102.4   \u001b[0m | \u001b[0m 8.81    \u001b[0m | \u001b[0m 6.075   \u001b[0m |\n",
      "| \u001b[0m 14      \u001b[0m | \u001b[0m-150.3   \u001b[0m | \u001b[0m 9.667   \u001b[0m | \u001b[0m-6.607   \u001b[0m |\n",
      "| \u001b[0m 15      \u001b[0m | \u001b[0m-61.75   \u001b[0m | \u001b[0m 0.4217  \u001b[0m | \u001b[0m 8.91    \u001b[0m |\n",
      "| \u001b[0m 16      \u001b[0m | \u001b[0m-46.59   \u001b[0m | \u001b[0m 2.991   \u001b[0m | \u001b[0m 7.217   \u001b[0m |\n",
      "| \u001b[0m 17      \u001b[0m | \u001b[0m-140.8   \u001b[0m | \u001b[0m 9.417   \u001b[0m | \u001b[0m-6.289   \u001b[0m |\n",
      "| \u001b[0m 18      \u001b[0m | \u001b[0m-67.23   \u001b[0m | \u001b[0m-5.138   \u001b[0m | \u001b[0m 7.468   \u001b[0m |\n",
      "| \u001b[0m 19      \u001b[0m | \u001b[0m-82.38   \u001b[0m | \u001b[0m 8.126   \u001b[0m | \u001b[0m 5.166   \u001b[0m |\n",
      "| \u001b[0m 20      \u001b[0m | \u001b[0m-11.37   \u001b[0m | \u001b[0m-3.062   \u001b[0m | \u001b[0m-0.7293  \u001b[0m |\n",
      "| \u001b[95m 21      \u001b[0m | \u001b[95m-5.042   \u001b[0m | \u001b[95m 2.211   \u001b[0m | \u001b[95m-0.07437 \u001b[0m |\n",
      "| \u001b[95m 22      \u001b[0m | \u001b[95m-4.433   \u001b[0m | \u001b[95m-0.4405  \u001b[0m | \u001b[95m-1.289   \u001b[0m |\n",
      "| \u001b[0m 23      \u001b[0m | \u001b[0m-106.5   \u001b[0m | \u001b[0m 7.408   \u001b[0m | \u001b[0m-6.253   \u001b[0m |\n",
      "| \u001b[0m 24      \u001b[0m | \u001b[0m-22.52   \u001b[0m | \u001b[0m 3.753   \u001b[0m | \u001b[0m 4.071   \u001b[0m |\n",
      "| \u001b[0m 25      \u001b[0m | \u001b[0m-175.6   \u001b[0m | \u001b[0m 8.504   \u001b[0m | \u001b[0m-9.211   \u001b[0m |\n",
      "| \u001b[0m 26      \u001b[0m | \u001b[0m-10.76   \u001b[0m | \u001b[0m 2.942   \u001b[0m | \u001b[0m 2.761   \u001b[0m |\n",
      "| \u001b[0m 27      \u001b[0m | \u001b[0m-98.37   \u001b[0m | \u001b[0m-0.766   \u001b[0m | \u001b[0m-8.939   \u001b[0m |\n",
      "| \u001b[0m 28      \u001b[0m | \u001b[0m-142.1   \u001b[0m | \u001b[0m-9.229   \u001b[0m | \u001b[0m-6.609   \u001b[0m |\n",
      "| \u001b[0m 29      \u001b[0m | \u001b[0m-93.73   \u001b[0m | \u001b[0m 5.891   \u001b[0m | \u001b[0m-6.748   \u001b[0m |\n",
      "| \u001b[0m 30      \u001b[0m | \u001b[0m-66.74   \u001b[0m | \u001b[0m-7.225   \u001b[0m | \u001b[0m-2.942   \u001b[0m |\n",
      "| \u001b[0m 31      \u001b[0m | \u001b[0m-7.827   \u001b[0m | \u001b[0m-0.31    \u001b[0m | \u001b[0m 3.955   \u001b[0m |\n",
      "| \u001b[0m 32      \u001b[0m | \u001b[0m-67.36   \u001b[0m | \u001b[0m 6.023   \u001b[0m | \u001b[0m-4.665   \u001b[0m |\n",
      "| \u001b[0m 33      \u001b[0m | \u001b[0m-177.2   \u001b[0m | \u001b[0m 8.19    \u001b[0m | \u001b[0m-9.543   \u001b[0m |\n",
      "| \u001b[0m 34      \u001b[0m | \u001b[0m-54.34   \u001b[0m | \u001b[0m-2.498   \u001b[0m | \u001b[0m-6.007   \u001b[0m |\n",
      "| \u001b[0m 35      \u001b[0m | \u001b[0m-13.37   \u001b[0m | \u001b[0m-3.144   \u001b[0m | \u001b[0m-1.118   \u001b[0m |\n",
      "| \u001b[0m 36      \u001b[0m | \u001b[0m-6.362   \u001b[0m | \u001b[0m-0.03721 \u001b[0m | \u001b[0m-1.713   \u001b[0m |\n",
      "| \u001b[0m 37      \u001b[0m | \u001b[0m-76.11   \u001b[0m | \u001b[0m-5.715   \u001b[0m | \u001b[0m-5.667   \u001b[0m |\n",
      "| \u001b[0m 38      \u001b[0m | \u001b[0m-40.49   \u001b[0m | \u001b[0m-5.354   \u001b[0m | \u001b[0m 4.582   \u001b[0m |\n",
      "| \u001b[95m 39      \u001b[0m | \u001b[95m-2.288   \u001b[0m | \u001b[95m-1.682   \u001b[0m | \u001b[95m 1.678   \u001b[0m |\n",
      "| \u001b[0m 40      \u001b[0m | \u001b[0m-4.768   \u001b[0m | \u001b[0m-0.1133  \u001b[0m | \u001b[0m-1.399   \u001b[0m |\n",
      "| \u001b[95m 41      \u001b[0m | \u001b[95m 0.852   \u001b[0m | \u001b[95m-0.174   \u001b[0m | \u001b[95m 1.343   \u001b[0m |\n",
      "| \u001b[95m 42      \u001b[0m | \u001b[95m 0.9209  \u001b[0m | \u001b[95m 0.2736  \u001b[0m | \u001b[95m 1.065   \u001b[0m |\n",
      "| \u001b[0m 43      \u001b[0m | \u001b[0m 0.7068  \u001b[0m | \u001b[0m 0.2723  \u001b[0m | \u001b[0m 1.468   \u001b[0m |\n",
      "| \u001b[95m 44      \u001b[0m | \u001b[95m 0.9972  \u001b[0m | \u001b[95m-0.02686 \u001b[0m | \u001b[95m 0.9541  \u001b[0m |\n",
      "| \u001b[0m 45      \u001b[0m | \u001b[0m 0.996   \u001b[0m | \u001b[0m 0.01395 \u001b[0m | \u001b[0m 1.062   \u001b[0m |\n",
      "=================================================\n",
      "Bayesian took: 16.083575963974\n"
     ]
    }
   ],
   "source": [
    "timestamp = time.time()\n",
    "Bopt.maximize(\n",
    "    init_points=40,\n",
    "    n_iter=5,\n",
    ")\n",
    "\n",
    "print(\"Bayesian took: {}\".format(time.time() - timestamp))"
   ]
  },
  {
   "cell_type": "code",
   "execution_count": 5,
   "metadata": {},
   "outputs": [
    {
     "name": "stdout",
     "output_type": "stream",
     "text": [
      "sample [-3.453188 -7.786429] target -88.12584027965045\n",
      "sample [-1.764986  1.19281 ] target -2.1523514337641245\n",
      "sample [1.211832 7.468994] target -42.31642210038626\n",
      "sample [ 4.5980816 -7.566061 ] target -93.51975569336355\n",
      "sample [-6.018343 -3.42381 ] target -54.79054708823696\n",
      "sample [-5.958774  2.528017] target -36.84182474038994\n",
      "sample [-2.8668118  8.254908 ] target -59.852294024320145\n",
      "sample [6.2287445 8.971569 ] target -101.34317143018416\n",
      "sample [ 1.4253979 -1.7844982] target -8.785189403926779\n",
      "sample [-4.876044   2.0138435] target -23.80368182202278\n",
      "sample [1.9563313 3.4092064] target -8.63150740311903\n",
      "sample [-8.016357    0.99087715] target -63.26206954161535\n",
      "sample [1.374157 2.645731] target -3.5967377616216254\n",
      "sample [-4.9391723  2.9758434] target -27.29937995028581\n",
      "sample [ 9.557644  -4.5438313] target -121.0826227550499\n",
      "sample [4.0764446 9.342176 ] target -85.2093085000015\n",
      "sample [-2.9518247  3.9146023] target -16.208175301930396\n",
      "sample [ 7.6179657 -7.6945353] target -132.62834468754681\n",
      "sample [-5.928917   3.1416302] target -38.73863577325028\n",
      "sample [1.0441132 0.2161026] target -0.7046674227458425\n",
      "sample [ 5.476387 -2.692275] target -42.62370986075348\n",
      "sample [ 1.2191277 -3.4098244] target -19.932823225302855\n",
      "sample [5.4344177 3.3630323] target -34.11681785017663\n",
      "sample [-7.139852 -9.029491] target -150.56818548790602\n",
      "sample [ 2.925377 -6.507976] target -63.92753440540787\n",
      "sample [-3.076601  -1.8663483] target -16.68142627366251\n",
      "sample [1.2087936 4.11689  ] target -10.176185047370382\n",
      "sample [-3.439064 -3.690884] target -32.83155513861516\n",
      "sample [1.4339018 2.6765175] target -3.866785216982862\n",
      "sample [8.776625  0.9390116] target -76.03286035408837\n",
      "sample [ 8.481722  -1.3970852] target -76.68562342387304\n",
      "sample [-9.746366   1.1447544] target -94.01259521841439\n",
      "sample [-1.9343376 -5.2299643] target -41.55411664715302\n",
      "sample [ 9.099529 -4.940195] target -117.08735050073665\n",
      "sample [ 1.7459984 -9.027863 ] target -102.60653765012103\n",
      "sample [ 7.31534   -7.9502535] target -132.6212374067518\n",
      "sample [-0.5304432 -8.615847 ] target -91.74587646633881\n",
      "sample [-0.07744789 -0.9631367 ] target -2.859903772630787\n",
      "sample [ 7.2933025 -4.4647336] target -82.05557520748721\n",
      "sample [7.604761  6.5688534] target -87.84451969684596\n",
      "sample [-7.2955775   0.94793797] target -52.2281618946738\n",
      "sample [-4.6600986  9.435778 ] target -91.87886332046787\n",
      "sample [8.024981  0.8558483] target -63.42109245737811\n",
      "sample [3.063118   0.14194489] target -9.118950345204212\n",
      "sample [-8.3882065   0.92400074] target -69.36778387106551\n",
      "sample [7.291233   0.20121098] target -52.80014348068016\n",
      "sample [-8.288452  6.112644] target -93.83756968729722\n",
      "sample [ 7.159523 -9.629216] target -163.23900663639597\n",
      "sample [6.690754   0.04862309] target -44.67130627672395\n",
      "sample [-9.179218  -7.0066667] target -147.3647594658271\n",
      "Best random [1.0441132 0.2161026] -0.7046674227458425\n",
      "sample [0.36371088 1.2023958 ] target 0.8267503370137632\n",
      "sample [0.17355259 1.035971  ] target 0.9685855832135617\n",
      "sample [0.10914812 1.022856  ] target 0.9875642907802749\n",
      "sample [0.05297996 0.9948303 ] target 0.9971663980373184\n",
      "sample [0.02882864 0.9857664 ] target 0.9989663146965027\n",
      "sample [0.02481784 0.9844826 ] target 0.9991432848213411\n",
      "sample [0.02431649 0.9854727 ] target 0.9991976654585897\n",
      "sample [0.02450211 0.98538476] target 0.9991860412625166\n",
      "sample [0.02154733 0.9876653 ] target 0.9993835676138401\n",
      "sample [0.01927292 0.9848393 ] target 0.9993987082084175\n",
      "Best [0.01927292 0.9848393 ] target 0.9993987082084175\n",
      "0.9993987082084175\n",
      "NNopt took: 86.13525223731995\n"
     ]
    }
   ],
   "source": [
    "timestamp = time.time()\n",
    "best, target = Nopt.run(random=50, optimization=10, fitting=10000, verbose=True)\n",
    "\n",
    "print(\"Best\", best, \"target\", target)\n",
    "print(black_box_functionB(*best))\n",
    "print(\"NNopt took:\", time.time() - timestamp)"
   ]
  },
  {
   "cell_type": "code",
   "execution_count": null,
   "metadata": {},
   "outputs": [],
   "source": []
  }
 ],
 "metadata": {
  "kernelspec": {
   "display_name": "Python 3",
   "language": "python",
   "name": "python3"
  },
  "language_info": {
   "codemirror_mode": {
    "name": "ipython",
    "version": 3
   },
   "file_extension": ".py",
   "mimetype": "text/x-python",
   "name": "python",
   "nbconvert_exporter": "python",
   "pygments_lexer": "ipython3",
   "version": "3.6.5"
  }
 },
 "nbformat": 4,
 "nbformat_minor": 2
}
