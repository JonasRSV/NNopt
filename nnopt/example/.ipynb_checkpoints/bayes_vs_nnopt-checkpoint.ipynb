{
 "cells": [
  {
   "cell_type": "markdown",
   "metadata": {},
   "source": [
    "Bayesian Optimization & NN Opt\n",
    "---"
   ]
  },
  {
   "cell_type": "code",
   "execution_count": 1,
   "metadata": {},
   "outputs": [],
   "source": [
    "from bayes_opt import BayesianOptimization\n",
    "from nnopt.nnopt import Optimizer\n",
    "import time\n",
    "import numpy as np\n",
    "import gym\n"
   ]
  },
  {
   "cell_type": "code",
   "execution_count": 2,
   "metadata": {},
   "outputs": [
    {
     "name": "stdout",
     "output_type": "stream",
     "text": [
      "\u001b[33mWARN: gym.spaces.Box autodetected dtype as <class 'numpy.float32'>. Please provide explicit dtype.\u001b[0m\n",
      "\u001b[33mWARN: gym.spaces.Box autodetected dtype as <class 'numpy.float32'>. Please provide explicit dtype.\u001b[0m\n",
      "Box(2,)\n",
      "Box(8,)\n"
     ]
    },
    {
     "name": "stderr",
     "output_type": "stream",
     "text": [
      "/usr/local/lib/python3.6/site-packages/gym/envs/registration.py:14: DeprecationWarning: Parameters to load are deprecated.  Call .resolve and .require separately.\n",
      "  result = entry_point.load(False)\n"
     ]
    }
   ],
   "source": [
    "ll = gym.make(\"LunarLanderContinuous-v2\")\n",
    "print(ll.action_space)\n",
    "print(ll.observation_space)\n",
    "\n",
    "def black_box_functionA(a, b, c, d, e, f, g, h, i, j, k, l, m, n, o, p, render=False):\n",
    "    \"\"\"Function with unknown internals we wish to maximize.\n",
    "\n",
    "    This is just serving as an example, for all intents and\n",
    "    purposes think of the internals of this function, i.e.: the process\n",
    "    which generates its output values, as unknown.\n",
    "    \"\"\"\n",
    "    transform = np.array([[a, b, c, d, e, f, g, h], [i, j, k, l, m, n, o, p]])\n",
    "    \n",
    "    sc = 0\n",
    "    for _ in range(10):\n",
    "        s = ll.reset()\n",
    "        done = False\n",
    "        while not done:\n",
    "            if render:\n",
    "                ll.render()\n",
    "            s, r, done, _ = ll.step(np.clip(transform @ s, -1, 1))\n",
    "            sc += r\n",
    "\n",
    "    return sc / 4\n",
    "\n",
    "def black_box_functionB(a, b):\n",
    "    \"\"\"Function with unknown internals we wish to maximize.\n",
    "\n",
    "    This is just serving as an example, for all intents and\n",
    "    purposes think of the internals of this function, i.e.: the process\n",
    "    which generates its output values, as unknown.\n",
    "    \"\"\"\n",
    "    return -a ** 2 - (b - 1) ** 2 + 1\n",
    "\n",
    "#print(black_box_function(-221.59328, 28.267517))"
   ]
  },
  {
   "cell_type": "code",
   "execution_count": 3,
   "metadata": {},
   "outputs": [],
   "source": [
    "Nopt = Optimizer(black_box_functionA, N=16, surrogate_hidden_layer=400, memory_hidden_layer=400, model_hidden_layer=400,\n",
    "                 Rn=[(-10, 10), (-10, 10), (-10, 10), (-10, 10), (-10, 10), (-10, 10), (-10, 10), (-10, 10), (-10, 10), (-10, 10), (-10, 10), (-10, 10), (-10, 10), (-10, 10), (-10, 10), (-10, 10)]) #(-10, 10), (-10, 10), (-10, 10), (-10, 10)])\n",
    "\n",
    "Bopt = BayesianOptimization(\n",
    "    f=black_box_functionA,\n",
    "    pbounds={'a': (-10, 10), 'b': (-10, 10), 'c': (-10, 10), \n",
    "             'd': (-10, 10), 'e': (-10, 10), 'f': (-10, 10), 'f': (-10, 10), 'g': (-10, 10), 'h': (-10, 10), 'i': (-10, 10), 'j': (-10, 10), 'k': (-10, 10), 'l': (-10, 10), 'm': (-10, 10), 'n': (-10, 10), 'o': (-10, 10), 'p': (-10, 10)},\n",
    "    \n",
    "    random_state=np.random.randint(10),\n",
    "    verbose=2\n",
    ")"
   ]
  },
  {
   "cell_type": "markdown",
   "metadata": {},
   "source": [
    "Bayesian\n",
    "---"
   ]
  },
  {
   "cell_type": "code",
   "execution_count": 4,
   "metadata": {},
   "outputs": [
    {
     "name": "stdout",
     "output_type": "stream",
     "text": [
      "|   iter    |  target   |     a     |     b     |     c     |     d     |     e     |     f     |     g     |     h     |     i     |     j     |     k     |     l     |     m     |     n     |     o     |     p     |\n",
      "-------------------------------------------------------------------------------------------------------------------------------------------------------------------------------------------------------------------------\n",
      "| \u001b[95m 2       \u001b[0m | \u001b[95m-1.656e+0\u001b[0m | \u001b[95m-1.654   \u001b[0m | \u001b[95m 1.174   \u001b[0m | \u001b[95m-7.192   \u001b[0m | \u001b[95m-6.038   \u001b[0m | \u001b[95m 6.015   \u001b[0m | \u001b[95m 9.365   \u001b[0m | \u001b[95m-3.732   \u001b[0m | \u001b[95m 3.846   \u001b[0m | \u001b[95m 7.528   \u001b[0m | \u001b[95m 7.892   \u001b[0m | \u001b[95m-8.299   \u001b[0m | \u001b[95m-9.219   \u001b[0m | \u001b[95m-6.603   \u001b[0m | \u001b[95m 7.563   \u001b[0m | \u001b[95m-8.033   \u001b[0m | \u001b[95m-1.578   \u001b[0m |\n",
      "| \u001b[95m 4       \u001b[0m | \u001b[95m-1.571e+0\u001b[0m | \u001b[95m-4.244   \u001b[0m | \u001b[95m-7.399   \u001b[0m | \u001b[95m-9.613   \u001b[0m | \u001b[95m 3.577   \u001b[0m | \u001b[95m-5.767   \u001b[0m | \u001b[95m-4.689   \u001b[0m | \u001b[95m-0.1685  \u001b[0m | \u001b[95m-8.933   \u001b[0m | \u001b[95m 1.482   \u001b[0m | \u001b[95m-7.065   \u001b[0m | \u001b[95m 1.786   \u001b[0m | \u001b[95m 3.995   \u001b[0m | \u001b[95m-7.953   \u001b[0m | \u001b[95m-1.719   \u001b[0m | \u001b[95m 3.888   \u001b[0m | \u001b[95m-1.716   \u001b[0m |\n",
      "| \u001b[95m 5       \u001b[0m | \u001b[95m-1.055e+0\u001b[0m | \u001b[95m-9.001   \u001b[0m | \u001b[95m 0.7179  \u001b[0m | \u001b[95m 3.276   \u001b[0m | \u001b[95m 0.2978  \u001b[0m | \u001b[95m 8.892   \u001b[0m | \u001b[95m 1.731   \u001b[0m | \u001b[95m 8.068   \u001b[0m | \u001b[95m-7.251   \u001b[0m | \u001b[95m-7.214   \u001b[0m | \u001b[95m 6.148   \u001b[0m | \u001b[95m-2.046   \u001b[0m | \u001b[95m-6.693   \u001b[0m | \u001b[95m 8.55    \u001b[0m | \u001b[95m-3.045   \u001b[0m | \u001b[95m 5.016   \u001b[0m | \u001b[95m 4.52    \u001b[0m |\n",
      "| \u001b[95m 7       \u001b[0m | \u001b[95m-870.7   \u001b[0m | \u001b[95m 8.068   \u001b[0m | \u001b[95m 1.474   \u001b[0m | \u001b[95m-9.943   \u001b[0m | \u001b[95m 2.343   \u001b[0m | \u001b[95m-3.467   \u001b[0m | \u001b[95m 0.5412  \u001b[0m | \u001b[95m 7.719   \u001b[0m | \u001b[95m-2.855   \u001b[0m | \u001b[95m 8.171   \u001b[0m | \u001b[95m 2.467   \u001b[0m | \u001b[95m-9.684   \u001b[0m | \u001b[95m 8.589   \u001b[0m | \u001b[95m 3.818   \u001b[0m | \u001b[95m 9.946   \u001b[0m | \u001b[95m-6.553   \u001b[0m | \u001b[95m-7.257   \u001b[0m |\n",
      "| \u001b[95m 12      \u001b[0m | \u001b[95m-493.8   \u001b[0m | \u001b[95m 3.385   \u001b[0m | \u001b[95m-4.702   \u001b[0m | \u001b[95m-8.673   \u001b[0m | \u001b[95m-2.598   \u001b[0m | \u001b[95m 2.594   \u001b[0m | \u001b[95m-5.797   \u001b[0m | \u001b[95m 5.055   \u001b[0m | \u001b[95m-8.669   \u001b[0m | \u001b[95m-4.794   \u001b[0m | \u001b[95m 6.095   \u001b[0m | \u001b[95m-6.131   \u001b[0m | \u001b[95m 2.789   \u001b[0m | \u001b[95m 0.4934  \u001b[0m | \u001b[95m 8.496   \u001b[0m | \u001b[95m-4.734   \u001b[0m | \u001b[95m-8.681   \u001b[0m |\n",
      "=========================================================================================================================================================================================================================\n",
      "Bayesian took: 46.61776804924011\n"
     ]
    }
   ],
   "source": [
    "timestamp = time.time()\n",
    "Bopt.maximize(\n",
    "    init_points=40,\n",
    "    n_iter=2,\n",
    ")\n",
    "\n",
    "print(\"Bayesian took: {}\".format(time.time() - timestamp))"
   ]
  },
  {
   "cell_type": "code",
   "execution_count": 11,
   "metadata": {},
   "outputs": [
    {
     "name": "stdout",
     "output_type": "stream",
     "text": [
      "target -1618.9383020571167\n",
      "target -1279.8451281834116\n",
      "target -2419.0647027100704\n",
      "target -1896.3279519795337\n",
      "target -1429.461588539853\n",
      "target -1834.481889911765\n",
      "target -1603.3233206389746\n",
      "target -2195.9650489002843\n",
      "target -1489.2131094048732\n",
      "target -401.9843142829622\n",
      "target -1861.6222695726933\n",
      "target -1867.9548769706182\n",
      "target -1002.5120841426269\n",
      "target -676.8642578184119\n",
      "target -1407.1947214258787\n",
      "target -2604.860475386148\n",
      "target -320.3277696695691\n",
      "target -1809.6542250667528\n",
      "target -1891.4746007633296\n",
      "target -2144.317153452752\n",
      "target -1235.2622985431203\n",
      "target -846.9826846228437\n",
      "target -2593.346574526179\n",
      "target -1642.2563420199758\n",
      "target -2274.9557943985214\n",
      "target -1897.7980770960805\n",
      "target -1438.4080827120213\n",
      "target -3209.662132768627\n",
      "target -1396.3751759818447\n",
      "target -1586.0367992252357\n",
      "target -1977.8458391221116\n",
      "target -3760.6529984704953\n",
      "target -1949.0020338805582\n",
      "target -1560.8465041972831\n",
      "target -1768.8456885818944\n",
      "target -1716.8149597400418\n",
      "target -1645.153910682932\n",
      "target -1480.4154686078855\n",
      "target -977.3338667873611\n",
      "target -954.6070825451374\n",
      "Best random [ 9.419239  -6.0509396 -1.4930391 -6.216023  -1.890295   2.4627733\n",
      "  5.433132  -9.44972    8.542271  -1.0130577 -5.206938  -0.0117588\n",
      " -4.4046283  9.817839  -2.9260874  7.395344 ] -320.3277696695691\n",
      "target -2006.0723626207189\n",
      "target -1303.2691875138996\n",
      "target -548.0624398002641\n",
      "target -478.9687070027396\n",
      "target -470.73576647556564\n",
      "target -333.43014928651104\n",
      "target -895.8660323583008\n",
      "target -222.77063396384236\n",
      "target -296.560925145333\n",
      "target -65.07410891128133\n",
      "target -157.51279383619413\n",
      "target -755.7688401824414\n",
      "target -1149.4038304145101\n",
      "target -345.1136690706197\n",
      "target -227.68510215015144\n",
      "Best [10.        -8.209711   1.0648685 -8.092638  -3.8881989  2.103694\n",
      "  6.1113815 -5.862116   9.292183  -3.1736393 -7.8730946 -1.9317579\n",
      " -2.1344676 10.        -5.7252398  7.245407 ] target -65.07410891128133\n",
      "-281.4952297070535\n",
      "NNopt took: 90.38904404640198\n"
     ]
    }
   ],
   "source": [
    "timestamp = time.time()\n",
    "Nopt.forget()\n",
    "best, target = Nopt.run(random=40, optimization=15, fitting=2000, forgetting=False, exploration=0.2,verbose=True)\n",
    "\n",
    "print(\"Best\", best, \"target\", target)\n",
    "print(black_box_functionA(*best))\n",
    "print(\"NNopt took:\", time.time() - timestamp)"
   ]
  },
  {
   "cell_type": "code",
   "execution_count": 13,
   "metadata": {},
   "outputs": [
    {
     "data": {
      "text/plain": [
       "-312.7811003124072"
      ]
     },
     "execution_count": 13,
     "metadata": {},
     "output_type": "execute_result"
    }
   ],
   "source": [
    "\n",
    "black_box_functionA(*best, render=True)"
   ]
  },
  {
   "cell_type": "code",
   "execution_count": 14,
   "metadata": {},
   "outputs": [
    {
     "data": {
      "text/plain": [
       "-77.68205829271352"
      ]
     },
     "execution_count": 14,
     "metadata": {},
     "output_type": "execute_result"
    }
   ],
   "source": [
    "# Stats from earlier opt \n",
    "W = [6.2106743, -10.0,        2.311772,  -10,         10,         7.4984336,\n",
    "  10,        10,        -10,         10,       -10,         10,\n",
    "  10,        10,        10,        -10,]       \n",
    "black_box_functionA(*W, render=True)"
   ]
  },
  {
   "cell_type": "code",
   "execution_count": null,
   "metadata": {},
   "outputs": [],
   "source": []
  }
 ],
 "metadata": {
  "kernelspec": {
   "display_name": "Python 3",
   "language": "python",
   "name": "python3"
  },
  "language_info": {
   "codemirror_mode": {
    "name": "ipython",
    "version": 3
   },
   "file_extension": ".py",
   "mimetype": "text/x-python",
   "name": "python",
   "nbconvert_exporter": "python",
   "pygments_lexer": "ipython3",
   "version": "3.6.5"
  }
 },
 "nbformat": 4,
 "nbformat_minor": 2
}
