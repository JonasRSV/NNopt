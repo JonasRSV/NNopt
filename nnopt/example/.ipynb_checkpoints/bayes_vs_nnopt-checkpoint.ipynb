{
 "cells": [
  {
   "cell_type": "markdown",
   "metadata": {},
   "source": [
    "Bayesian Optimization & NN Opt\n",
    "---"
   ]
  },
  {
   "cell_type": "code",
   "execution_count": null,
   "metadata": {},
   "outputs": [],
   "source": [
    "from bayes_opt import BayesianOptimization\n",
    "from nnopt.nnopt import Optimizer\n",
    "import time\n",
    "import numpy as np\n",
    "import gym\n"
   ]
  },
  {
   "cell_type": "code",
   "execution_count": null,
   "metadata": {},
   "outputs": [],
   "source": [
    "ll = gym.make(\"LunarLanderContinuous-v2\")\n",
    "print(ll.action_space)\n",
    "print(ll.observation_space)\n",
    "\n",
    "def black_box_functionA(a, b, c, d, e, f, g, h, i, j, k, l, m, n, o, p, render=False):\n",
    "    \"\"\"Function with unknown internals we wish to maximize.\n",
    "\n",
    "    This is just serving as an example, for all intents and\n",
    "    purposes think of the internals of this function, i.e.: the process\n",
    "    which generates its output values, as unknown.\n",
    "    \"\"\"\n",
    "    transform = np.array([[a, b, c, d, e, f, g, h], [i, j, k, l, m, n, o, p]])\n",
    "    \n",
    "    sc = 0\n",
    "    for _ in range(20):\n",
    "        s = ll.reset()\n",
    "        done = False\n",
    "        while not done:\n",
    "            if render:\n",
    "                ll.render()\n",
    "            s, r, done, _ = ll.step(np.clip(transform @ s, -1, 1))\n",
    "            sc += r\n",
    "\n",
    "    return sc / 4\n",
    "\n",
    "def black_box_functionB(a, b):\n",
    "    \"\"\"Function with unknown internals we wish to maximize.\n",
    "\n",
    "    This is just serving as an example, for all intents and\n",
    "    purposes think of the internals of this function, i.e.: the process\n",
    "    which generates its output values, as unknown.\n",
    "    \"\"\"\n",
    "    return -a ** 2 - (b - 1) ** 2 + 1\n",
    "\n",
    "#print(black_box_function(-221.59328, 28.267517))"
   ]
  },
  {
   "cell_type": "code",
   "execution_count": null,
   "metadata": {},
   "outputs": [],
   "source": [
    "Nopt = Optimizer(black_box_functionA, N=16, surrogate_hidden_layer=400,\n",
    "                 Rn=(-10, 10))\n",
    "\n",
    "Bopt = BayesianOptimization(\n",
    "    f=black_box_functionA,\n",
    "    pbounds={'a': (-10, 10), 'b': (-10, 10), 'c': (-10, 10), \n",
    "             'd': (-10, 10), 'e': (-10, 10), 'f': (-10, 10), 'f': (-10, 10), 'g': (-10, 10), 'h': (-10, 10), 'i': (-10, 10), 'j': (-10, 10), 'k': (-10, 10), 'l': (-10, 10), 'm': (-10, 10), 'n': (-10, 10), 'o': (-10, 10), 'p': (-10, 10)},\n",
    "    \n",
    "    random_state=np.random.randint(10),\n",
    "    verbose=2\n",
    ")"
   ]
  },
  {
   "cell_type": "markdown",
   "metadata": {},
   "source": [
    "Bayesian\n",
    "---"
   ]
  },
  {
   "cell_type": "code",
   "execution_count": null,
   "metadata": {},
   "outputs": [],
   "source": [
    "timestamp = time.time()\n",
    "Bopt.maximize(\n",
    "    init_points=40,\n",
    "    n_iter=2,\n",
    ")\n",
    "\n",
    "print(\"Bayesian took: {}\".format(time.time() - timestamp))"
   ]
  },
  {
   "cell_type": "code",
   "execution_count": null,
   "metadata": {
    "scrolled": false
   },
   "outputs": [],
   "source": [
    "timestamp = time.time()\n",
    "Nopt.forget()\n",
    "best, target = Nopt.run(random=40, optimization=10, fitting=4000, exploration=0.00,verbose=2)\n",
    "\n",
    "print(\"Best\", best, \"target\", target)\n",
    "print(black_box_functionA(*best))\n",
    "print(\"NNopt took:\", time.time() - timestamp)"
   ]
  },
  {
   "cell_type": "code",
   "execution_count": null,
   "metadata": {},
   "outputs": [],
   "source": [
    "\n",
    "black_box_functionA(*best, render=True)"
   ]
  },
  {
   "cell_type": "code",
   "execution_count": null,
   "metadata": {},
   "outputs": [],
   "source": [
    "# Stats from earlier opt \n",
    "W = [6.2106743, -10.0,        2.311772,  -10,         10,         7.4984336,\n",
    "  10,        10,        -10,         10,       -10,         10,\n",
    "  10,        10,        10,        -10,]       \n",
    "black_box_functionA(*W, render=True)"
   ]
  },
  {
   "cell_type": "code",
   "execution_count": null,
   "metadata": {},
   "outputs": [],
   "source": [
    "a =[ 0.64502907, -0.90281296, -5.945456,   -5.808859,    8.418125,    2.147026,\n",
    "  5.653866,   -8.538346,   -6.319692,    1.7746944,  -1.2864513,   8.868685,\n",
    "  6.0241585,   4.775818,    7.363823,   -7.1539164, ] \n",
    "black_box_functionA(*a, render=True)"
   ]
  },
  {
   "cell_type": "code",
   "execution_count": null,
   "metadata": {},
   "outputs": [],
   "source": []
  }
 ],
 "metadata": {
  "kernelspec": {
   "display_name": "Python 3",
   "language": "python",
   "name": "python3"
  },
  "language_info": {
   "codemirror_mode": {
    "name": "ipython",
    "version": 3
   },
   "file_extension": ".py",
   "mimetype": "text/x-python",
   "name": "python",
   "nbconvert_exporter": "python",
   "pygments_lexer": "ipython3",
   "version": "3.6.5"
  }
 },
 "nbformat": 4,
 "nbformat_minor": 2
}
